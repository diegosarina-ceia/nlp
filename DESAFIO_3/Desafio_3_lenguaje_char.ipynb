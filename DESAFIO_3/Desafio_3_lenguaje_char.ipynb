{
  "cells": [
    {
      "cell_type": "markdown",
      "metadata": {
        "id": "g3yeJGnCYxuF"
      },
      "source": [
        "<img src=\"https://github.com/hernancontigiani/ceia_memorias_especializacion/raw/master/Figures/logoFIUBA.jpg\" width=\"500\" align=\"center\">\n",
        "\n",
        "\n",
        "# Procesamiento de lenguaje natural\n",
        "## Modelo de lenguaje con tokenización por caracteres"
      ]
    },
    {
      "cell_type": "markdown",
      "metadata": {
        "id": "Iv5PEwGzZA9-"
      },
      "source": [
        "### Consigna\n",
        "- Seleccionar un corpus de texto sobre el cual entrenar el modelo de lenguaje.\n",
        "- Realizar el pre-procesamiento adecuado para tokenizar el corpus, estructurar el dataset y separar entre datos de entrenamiento y validación.\n",
        "- Proponer arquitecturas de redes neuronales basadas en unidades recurrentes para implementar un modelo de lenguaje.\n",
        "- Con el o los modelos que consideren adecuados, generar nuevas secuencias a partir de secuencias de contexto con las estrategias de greedy search y beam search determístico y estocástico. En este último caso observar el efecto de la temperatura en la generación de secuencias.\n",
        "\n",
        "\n",
        "### Sugerencias\n",
        "- Durante el entrenamiento, guiarse por el descenso de la perplejidad en los datos de validación para finalizar el entrenamiento. Para ello se provee un callback.\n",
        "- Explorar utilizar SimpleRNN (celda de Elman), LSTM y GRU.\n",
        "- rmsprop es el optimizador recomendado para la buena convergencia. No obstante se pueden explorar otros.\n"
      ]
    },
    {
      "cell_type": "code",
      "execution_count": 60,
      "metadata": {
        "id": "Y-QdFbHZYj7C"
      },
      "outputs": [],
      "source": [
        "import random\n",
        "import io\n",
        "import pickle\n",
        "\n",
        "import numpy as np\n",
        "import pandas as pd\n",
        "import matplotlib.pyplot as plt\n",
        "from sklearn.model_selection import train_test_split\n",
        "\n",
        "from tensorflow import keras\n",
        "from tensorflow.keras import layers\n",
        "from keras.utils import to_categorical\n",
        "from keras.models import Sequential\n",
        "from keras.layers import Dense, LSTM, Embedding, Dropout\n",
        "from tensorflow.keras.losses import SparseCategoricalCrossentropy"
      ]
    },
    {
      "cell_type": "code",
      "execution_count": 61,
      "metadata": {
        "colab": {
          "base_uri": "https://localhost:8080/"
        },
        "id": "64sSgAvYt9sr",
        "outputId": "910a842b-2acf-4b58-a6fb-45345d06f77e"
      },
      "outputs": [
        {
          "name": "stdout",
          "output_type": "stream",
          "text": [
            "Num GPUs Available:  1\n",
            "PhysicalDevice(name='/physical_device:CPU:0', device_type='CPU')\n",
            "PhysicalDevice(name='/physical_device:GPU:0', device_type='GPU')\n"
          ]
        }
      ],
      "source": [
        "import tensorflow as tf\n",
        "\n",
        "# Verifica si TensorFlow está utilizando GPU\n",
        "print(\"Num GPUs Available: \", len(tf.config.list_physical_devices('GPU')))\n",
        "\n",
        "# Verifica los dispositivos disponibles y sus detalles\n",
        "for device in tf.config.list_physical_devices():\n",
        "    print(device)"
      ]
    },
    {
      "cell_type": "markdown",
      "metadata": {
        "id": "xTvXlEKQZdqx"
      },
      "source": [
        "### Datos\n",
        "\n",
        "Utilizo el libro **Harry Potter y La piedra filosofal**, de la autora J.K. Rowling para entrenar el modelo, de manera tal que la predicción de la palabra va a estar relacionada con el contexto de la historia dada en el libro."
      ]
    },
    {
      "cell_type": "code",
      "execution_count": 62,
      "metadata": {
        "colab": {
          "base_uri": "https://localhost:8080/"
        },
        "id": "WeUsG18VlGSr",
        "outputId": "f36abe57-3e91-488d-ef1a-fc652634fc5f"
      },
      "outputs": [
        {
          "name": "stdout",
          "output_type": "stream",
          "text": [
            "Drive already mounted at /content/drive; to attempt to forcibly remount, call drive.mount(\"/content/drive\", force_remount=True).\n"
          ]
        }
      ],
      "source": [
        "from google.colab import drive\n",
        "drive.mount('/content/drive')"
      ]
    },
    {
      "cell_type": "code",
      "execution_count": 64,
      "metadata": {
        "id": "MSo_076Sl3g0"
      },
      "outputs": [],
      "source": [
        "# Path donde va a estar el libro en Colab\n",
        "\n",
        "filepath = r\"drive/MyDrive/Colab Notebooks/Book1.txt\"\n",
        "#filepath = 'Book1.txt' #local"
      ]
    },
    {
      "cell_type": "code",
      "execution_count": 6,
      "metadata": {
        "id": "4Fnuzn9gt9sr"
      },
      "outputs": [],
      "source": [
        "import re\n",
        "\n",
        "# leo el archivo local\n",
        "with open(filepath, 'r', encoding='utf-8') as file:\n",
        "    article_text = file.read()\n",
        "\n",
        "# paso todo el texto a minúsculas\n",
        "article_text = article_text.lower()\n",
        "\n",
        "# elimino caracteres especiales y números, manteniendo solo texto y espacios\n",
        "article_text = re.sub(r'\\s+', ' ', article_text)\n",
        "article_text = article_text.replace('/', '')\n"
      ]
    },
    {
      "cell_type": "code",
      "execution_count": 7,
      "metadata": {
        "colab": {
          "base_uri": "https://localhost:8080/"
        },
        "id": "ILXwRACCt9sr",
        "outputId": "05d2e2f9-aad3-4e7a-9de8-5fd638a20dcf"
      },
      "outputs": [
        {
          "name": "stdout",
          "output_type": "stream",
          "text": [
            " the boy who lived mr. and mrs. dursley, of number four, privet drive, were proud to say that they were perfectly normal, thank you very much. they were the last people you’d expect to be involved in anything strange or mysterious, because they just didn’t hold with such nonsense. mr. dursley was the director of a firm called grunnings, which made drills. he was a big, beefy man with hardly any neck, although he did have a very large mustache. mrs. dursley was thin and blonde and had nearly twice the usual amount of neck, which came in very useful as she spent so much of her time craning over garden fences, spying on the neighbors. the dursley s had a small son called dudley and in their opinion there was no finer boy anywhere. the dursleys had everything they wanted, but they also had a secret, and their greatest fear was that somebody would discover it. they didn’t think they could bear it if anyone found out about the potters. mrs. potter was mrs. dursley’s sister, but they hadn’t p\n"
          ]
        }
      ],
      "source": [
        "# en article text se encuentra el texto de todo el libro\n",
        "print(article_text[:1000])"
      ]
    },
    {
      "cell_type": "markdown",
      "metadata": {
        "id": "cP1JdiOIKQWi"
      },
      "source": [
        "### Elegir el tamaño del contexto\n",
        "\n",
        "En este caso, como el modelo de lenguaje es por caracteres, todo un gran corpus\n",
        "de texto puede ser considerado un documento en sí mismo y el tamaño de contexto\n",
        "puede ser elegido con más libertad en comparación a un modelo de lenguaje tokenizado por palabras y dividido en documentos más acotados."
      ]
    },
    {
      "cell_type": "code",
      "execution_count": 8,
      "metadata": {
        "id": "wumBNwdjJM3j"
      },
      "outputs": [],
      "source": [
        "# seleccionamos el tamaño de contexto\n",
        "max_context_size = 100"
      ]
    },
    {
      "cell_type": "code",
      "execution_count": 9,
      "metadata": {
        "id": "m5FeTaGvbDbw"
      },
      "outputs": [],
      "source": [
        "# Usaremos las utilidades de procesamiento de textos y secuencias de Keras\n",
        "from tensorflow.keras.utils import pad_sequences # se utilizará para padding"
      ]
    },
    {
      "cell_type": "code",
      "execution_count": 10,
      "metadata": {
        "id": "573Cg5n7VhWw"
      },
      "outputs": [],
      "source": [
        "# en este caso el vocabulario es el conjunto único de caracteres que existe en todo el texto\n",
        "chars_vocab = set(article_text)"
      ]
    },
    {
      "cell_type": "code",
      "execution_count": 11,
      "metadata": {
        "colab": {
          "base_uri": "https://localhost:8080/"
        },
        "id": "VwTK6xgLJd8q",
        "outputId": "089be638-75f3-4ed5-d41a-d4cf23228b49"
      },
      "outputs": [
        {
          "name": "stdout",
          "output_type": "stream",
          "text": [
            "La longitud de vocabulario de caracteres es: 57\n"
          ]
        }
      ],
      "source": [
        "# la longitud de vocabulario de caracteres es:\n",
        "print(f\"La longitud de vocabulario de caracteres es: {len(chars_vocab)}\")"
      ]
    },
    {
      "cell_type": "code",
      "execution_count": 12,
      "metadata": {
        "id": "2W0AeQjXV1Ou"
      },
      "outputs": [],
      "source": [
        "# Construimos los dicionarios que asignan índices a caracteres y viceversa.\n",
        "# El diccionario `char2idx` servirá como tokenizador.\n",
        "char2idx = {k: v for v,k in enumerate(chars_vocab)}\n",
        "idx2char = {v: k for k,v in char2idx.items()}"
      ]
    },
    {
      "cell_type": "markdown",
      "metadata": {
        "id": "2oIUjVU0LB0r"
      },
      "source": [
        "###  Tokenizar"
      ]
    },
    {
      "cell_type": "code",
      "execution_count": 13,
      "metadata": {
        "id": "h07G3srdJppo"
      },
      "outputs": [],
      "source": [
        "# tokenizamos el texto completo\n",
        "tokenized_text = [char2idx[ch] for ch in article_text]"
      ]
    },
    {
      "cell_type": "code",
      "execution_count": 14,
      "metadata": {
        "colab": {
          "base_uri": "https://localhost:8080/"
        },
        "id": "PwGVSKOiJ5bj",
        "outputId": "eb83a319-0eed-4d8c-b5a7-408225233134"
      },
      "outputs": [
        {
          "data": {
            "text/plain": [
              "[54,\n",
              " 12,\n",
              " 4,\n",
              " 27,\n",
              " 54,\n",
              " 7,\n",
              " 39,\n",
              " 33,\n",
              " 54,\n",
              " 9,\n",
              " 4,\n",
              " 39,\n",
              " 54,\n",
              " 1,\n",
              " 26,\n",
              " 31,\n",
              " 27,\n",
              " 43,\n",
              " 54,\n",
              " 19,\n",
              " 28,\n",
              " 53,\n",
              " 54,\n",
              " 0,\n",
              " 10,\n",
              " 43,\n",
              " 54,\n",
              " 19,\n",
              " 28,\n",
              " 24,\n",
              " 53,\n",
              " 54,\n",
              " 43,\n",
              " 23,\n",
              " 28,\n",
              " 24,\n",
              " 1,\n",
              " 27,\n",
              " 33,\n",
              " 41,\n",
              " 54,\n",
              " 39,\n",
              " 52,\n",
              " 54,\n",
              " 10,\n",
              " 23,\n",
              " 19,\n",
              " 7,\n",
              " 27,\n",
              " 28,\n",
              " 54,\n",
              " 52,\n",
              " 39,\n",
              " 23,\n",
              " 28,\n",
              " 41,\n",
              " 54,\n",
              " 20,\n",
              " 28,\n",
              " 26,\n",
              " 31,\n",
              " 27,\n",
              " 12,\n",
              " 54,\n",
              " 43,\n",
              " 28,\n",
              " 26,\n",
              " 31,\n",
              " 27,\n",
              " 41,\n",
              " 54,\n",
              " 9,\n",
              " 27,\n",
              " 28,\n",
              " 27,\n",
              " 54,\n",
              " 20,\n",
              " 28,\n",
              " 39,\n",
              " 23,\n",
              " 43,\n",
              " 54,\n",
              " 12,\n",
              " 39,\n",
              " 54,\n",
              " 24,\n",
              " 0,\n",
              " 33,\n",
              " 54,\n",
              " 12,\n",
              " 4,\n",
              " 0,\n",
              " 12,\n",
              " 54,\n",
              " 12,\n",
              " 4,\n",
              " 27,\n",
              " 33,\n",
              " 54,\n",
              " 9,\n",
              " 27,\n",
              " 28,\n",
              " 27,\n",
              " 54,\n",
              " 20,\n",
              " 27,\n",
              " 28,\n",
              " 52,\n",
              " 27,\n",
              " 50,\n",
              " 12,\n",
              " 1,\n",
              " 33,\n",
              " 54,\n",
              " 10,\n",
              " 39,\n",
              " 28,\n",
              " 19,\n",
              " 0,\n",
              " 1,\n",
              " 41,\n",
              " 54,\n",
              " 12,\n",
              " 4,\n",
              " 0,\n",
              " 10,\n",
              " 55,\n",
              " 54,\n",
              " 33,\n",
              " 39,\n",
              " 23,\n",
              " 54,\n",
              " 31,\n",
              " 27,\n",
              " 28,\n",
              " 33,\n",
              " 54,\n",
              " 19,\n",
              " 23,\n",
              " 50,\n",
              " 4,\n",
              " 53,\n",
              " 54,\n",
              " 12,\n",
              " 4,\n",
              " 27,\n",
              " 33,\n",
              " 54,\n",
              " 9,\n",
              " 27,\n",
              " 28,\n",
              " 27,\n",
              " 54,\n",
              " 12,\n",
              " 4,\n",
              " 27,\n",
              " 54,\n",
              " 1,\n",
              " 0,\n",
              " 24,\n",
              " 12,\n",
              " 54,\n",
              " 20,\n",
              " 27,\n",
              " 39,\n",
              " 20,\n",
              " 1,\n",
              " 27,\n",
              " 54,\n",
              " 33,\n",
              " 39,\n",
              " 23,\n",
              " 6,\n",
              " 43,\n",
              " 54,\n",
              " 27,\n",
              " 56,\n",
              " 20,\n",
              " 27,\n",
              " 50,\n",
              " 12,\n",
              " 54,\n",
              " 12,\n",
              " 39,\n",
              " 54,\n",
              " 7,\n",
              " 27,\n",
              " 54,\n",
              " 26,\n",
              " 10,\n",
              " 31,\n",
              " 39,\n",
              " 1,\n",
              " 31,\n",
              " 27,\n",
              " 43,\n",
              " 54,\n",
              " 26,\n",
              " 10,\n",
              " 54,\n",
              " 0,\n",
              " 10,\n",
              " 33,\n",
              " 12,\n",
              " 4,\n",
              " 26,\n",
              " 10,\n",
              " 21,\n",
              " 54,\n",
              " 24,\n",
              " 12,\n",
              " 28,\n",
              " 0,\n",
              " 10,\n",
              " 21,\n",
              " 27,\n",
              " 54,\n",
              " 39,\n",
              " 28,\n",
              " 54,\n",
              " 19,\n",
              " 33,\n",
              " 24,\n",
              " 12,\n",
              " 27,\n",
              " 28,\n",
              " 26,\n",
              " 39,\n",
              " 23,\n",
              " 24,\n",
              " 41,\n",
              " 54,\n",
              " 7,\n",
              " 27,\n",
              " 50,\n",
              " 0,\n",
              " 23,\n",
              " 24,\n",
              " 27,\n",
              " 54,\n",
              " 12,\n",
              " 4,\n",
              " 27,\n",
              " 33,\n",
              " 54,\n",
              " 38,\n",
              " 23,\n",
              " 24,\n",
              " 12,\n",
              " 54,\n",
              " 43,\n",
              " 26,\n",
              " 43,\n",
              " 10,\n",
              " 6,\n",
              " 12,\n",
              " 54,\n",
              " 4,\n",
              " 39,\n",
              " 1,\n",
              " 43,\n",
              " 54,\n",
              " 9,\n",
              " 26,\n",
              " 12,\n",
              " 4,\n",
              " 54,\n",
              " 24,\n",
              " 23,\n",
              " 50,\n",
              " 4,\n",
              " 54,\n",
              " 10,\n",
              " 39,\n",
              " 10,\n",
              " 24,\n",
              " 27,\n",
              " 10,\n",
              " 24,\n",
              " 27,\n",
              " 53,\n",
              " 54,\n",
              " 19,\n",
              " 28,\n",
              " 53,\n",
              " 54,\n",
              " 43,\n",
              " 23,\n",
              " 28,\n",
              " 24,\n",
              " 1,\n",
              " 27,\n",
              " 33,\n",
              " 54,\n",
              " 9,\n",
              " 0,\n",
              " 24,\n",
              " 54,\n",
              " 12,\n",
              " 4,\n",
              " 27,\n",
              " 54,\n",
              " 43,\n",
              " 26,\n",
              " 28,\n",
              " 27,\n",
              " 50,\n",
              " 12,\n",
              " 39,\n",
              " 28,\n",
              " 54,\n",
              " 39,\n",
              " 52,\n",
              " 54,\n",
              " 0,\n",
              " 54,\n",
              " 52,\n",
              " 26,\n",
              " 28,\n",
              " 19,\n",
              " 54,\n",
              " 50,\n",
              " 0,\n",
              " 1,\n",
              " 1,\n",
              " 27,\n",
              " 43,\n",
              " 54,\n",
              " 21,\n",
              " 28,\n",
              " 23,\n",
              " 10,\n",
              " 10,\n",
              " 26,\n",
              " 10,\n",
              " 21,\n",
              " 24,\n",
              " 41,\n",
              " 54,\n",
              " 9,\n",
              " 4,\n",
              " 26,\n",
              " 50,\n",
              " 4,\n",
              " 54,\n",
              " 19,\n",
              " 0,\n",
              " 43,\n",
              " 27,\n",
              " 54,\n",
              " 43,\n",
              " 28,\n",
              " 26,\n",
              " 1,\n",
              " 1,\n",
              " 24,\n",
              " 53,\n",
              " 54,\n",
              " 4,\n",
              " 27,\n",
              " 54,\n",
              " 9,\n",
              " 0,\n",
              " 24,\n",
              " 54,\n",
              " 0,\n",
              " 54,\n",
              " 7,\n",
              " 26,\n",
              " 21,\n",
              " 41,\n",
              " 54,\n",
              " 7,\n",
              " 27,\n",
              " 27,\n",
              " 52,\n",
              " 33,\n",
              " 54,\n",
              " 19,\n",
              " 0,\n",
              " 10,\n",
              " 54,\n",
              " 9,\n",
              " 26,\n",
              " 12,\n",
              " 4,\n",
              " 54,\n",
              " 4,\n",
              " 0,\n",
              " 28,\n",
              " 43,\n",
              " 1,\n",
              " 33,\n",
              " 54,\n",
              " 0,\n",
              " 10,\n",
              " 33,\n",
              " 54,\n",
              " 10,\n",
              " 27,\n",
              " 50,\n",
              " 55,\n",
              " 41,\n",
              " 54,\n",
              " 0,\n",
              " 1,\n",
              " 12,\n",
              " 4,\n",
              " 39,\n",
              " 23,\n",
              " 21,\n",
              " 4,\n",
              " 54,\n",
              " 4,\n",
              " 27,\n",
              " 54,\n",
              " 43,\n",
              " 26,\n",
              " 43,\n",
              " 54,\n",
              " 4,\n",
              " 0,\n",
              " 31,\n",
              " 27,\n",
              " 54,\n",
              " 0,\n",
              " 54,\n",
              " 31,\n",
              " 27,\n",
              " 28,\n",
              " 33,\n",
              " 54,\n",
              " 1,\n",
              " 0,\n",
              " 28,\n",
              " 21,\n",
              " 27,\n",
              " 54,\n",
              " 19,\n",
              " 23,\n",
              " 24,\n",
              " 12,\n",
              " 0,\n",
              " 50,\n",
              " 4,\n",
              " 27,\n",
              " 53,\n",
              " 54,\n",
              " 19,\n",
              " 28,\n",
              " 24,\n",
              " 53,\n",
              " 54,\n",
              " 43,\n",
              " 23,\n",
              " 28,\n",
              " 24,\n",
              " 1,\n",
              " 27,\n",
              " 33,\n",
              " 54,\n",
              " 9,\n",
              " 0,\n",
              " 24,\n",
              " 54,\n",
              " 12,\n",
              " 4,\n",
              " 26,\n",
              " 10,\n",
              " 54,\n",
              " 0,\n",
              " 10,\n",
              " 43,\n",
              " 54,\n",
              " 7,\n",
              " 1,\n",
              " 39,\n",
              " 10,\n",
              " 43,\n",
              " 27,\n",
              " 54,\n",
              " 0,\n",
              " 10,\n",
              " 43,\n",
              " 54,\n",
              " 4,\n",
              " 0,\n",
              " 43,\n",
              " 54,\n",
              " 10,\n",
              " 27,\n",
              " 0,\n",
              " 28,\n",
              " 1,\n",
              " 33,\n",
              " 54,\n",
              " 12,\n",
              " 9,\n",
              " 26,\n",
              " 50,\n",
              " 27,\n",
              " 54,\n",
              " 12,\n",
              " 4,\n",
              " 27,\n",
              " 54,\n",
              " 23,\n",
              " 24,\n",
              " 23,\n",
              " 0,\n",
              " 1,\n",
              " 54,\n",
              " 0,\n",
              " 19,\n",
              " 39,\n",
              " 23,\n",
              " 10,\n",
              " 12,\n",
              " 54,\n",
              " 39,\n",
              " 52,\n",
              " 54,\n",
              " 10,\n",
              " 27,\n",
              " 50,\n",
              " 55,\n",
              " 41,\n",
              " 54,\n",
              " 9,\n",
              " 4,\n",
              " 26,\n",
              " 50,\n",
              " 4,\n",
              " 54,\n",
              " 50,\n",
              " 0,\n",
              " 19,\n",
              " 27,\n",
              " 54,\n",
              " 26,\n",
              " 10,\n",
              " 54,\n",
              " 31,\n",
              " 27,\n",
              " 28,\n",
              " 33,\n",
              " 54,\n",
              " 23,\n",
              " 24,\n",
              " 27,\n",
              " 52,\n",
              " 23,\n",
              " 1,\n",
              " 54,\n",
              " 0,\n",
              " 24,\n",
              " 54,\n",
              " 24,\n",
              " 4,\n",
              " 27,\n",
              " 54,\n",
              " 24,\n",
              " 20,\n",
              " 27,\n",
              " 10,\n",
              " 12,\n",
              " 54,\n",
              " 24,\n",
              " 39,\n",
              " 54,\n",
              " 19,\n",
              " 23,\n",
              " 50,\n",
              " 4,\n",
              " 54,\n",
              " 39,\n",
              " 52,\n",
              " 54,\n",
              " 4,\n",
              " 27,\n",
              " 28,\n",
              " 54,\n",
              " 12,\n",
              " 26,\n",
              " 19,\n",
              " 27,\n",
              " 54,\n",
              " 50,\n",
              " 28,\n",
              " 0,\n",
              " 10,\n",
              " 26,\n",
              " 10,\n",
              " 21,\n",
              " 54,\n",
              " 39,\n",
              " 31,\n",
              " 27,\n",
              " 28,\n",
              " 54,\n",
              " 21,\n",
              " 0,\n",
              " 28,\n",
              " 43,\n",
              " 27,\n",
              " 10,\n",
              " 54,\n",
              " 52,\n",
              " 27,\n",
              " 10,\n",
              " 50,\n",
              " 27,\n",
              " 24,\n",
              " 41,\n",
              " 54,\n",
              " 24,\n",
              " 20,\n",
              " 33,\n",
              " 26,\n",
              " 10,\n",
              " 21,\n",
              " 54,\n",
              " 39,\n",
              " 10,\n",
              " 54,\n",
              " 12,\n",
              " 4,\n",
              " 27,\n",
              " 54,\n",
              " 10,\n",
              " 27,\n",
              " 26,\n",
              " 21,\n",
              " 4,\n",
              " 7,\n",
              " 39,\n",
              " 28,\n",
              " 24,\n",
              " 53,\n",
              " 54,\n",
              " 12,\n",
              " 4,\n",
              " 27,\n",
              " 54,\n",
              " 43,\n",
              " 23,\n",
              " 28,\n",
              " 24,\n",
              " 1,\n",
              " 27,\n",
              " 33,\n",
              " 54,\n",
              " 24,\n",
              " 54,\n",
              " 4,\n",
              " 0,\n",
              " 43,\n",
              " 54,\n",
              " 0,\n",
              " 54,\n",
              " 24,\n",
              " 19,\n",
              " 0,\n",
              " 1,\n",
              " 1,\n",
              " 54,\n",
              " 24,\n",
              " 39,\n",
              " 10,\n",
              " 54,\n",
              " 50,\n",
              " 0,\n",
              " 1,\n",
              " 1,\n",
              " 27,\n",
              " 43,\n",
              " 54,\n",
              " 43,\n",
              " 23,\n",
              " 43,\n",
              " 1,\n",
              " 27,\n",
              " 33,\n",
              " 54,\n",
              " 0,\n",
              " 10,\n",
              " 43,\n",
              " 54,\n",
              " 26,\n",
              " 10,\n",
              " 54,\n",
              " 12,\n",
              " 4,\n",
              " 27,\n",
              " 26,\n",
              " 28,\n",
              " 54,\n",
              " 39,\n",
              " 20,\n",
              " 26,\n",
              " 10,\n",
              " 26,\n",
              " 39,\n",
              " 10,\n",
              " 54,\n",
              " 12,\n",
              " 4,\n",
              " 27,\n",
              " 28,\n",
              " 27,\n",
              " 54,\n",
              " 9,\n",
              " 0,\n",
              " 24,\n",
              " 54,\n",
              " 10,\n",
              " 39,\n",
              " 54,\n",
              " 52,\n",
              " 26,\n",
              " 10,\n",
              " 27,\n",
              " 28,\n",
              " 54,\n",
              " 7,\n",
              " 39,\n",
              " 33,\n",
              " 54,\n",
              " 0,\n",
              " 10,\n",
              " 33,\n",
              " 9,\n",
              " 4,\n",
              " 27,\n",
              " 28,\n",
              " 27,\n",
              " 53,\n",
              " 54,\n",
              " 12,\n",
              " 4,\n",
              " 27,\n",
              " 54,\n",
              " 43,\n",
              " 23,\n",
              " 28,\n",
              " 24,\n",
              " 1,\n",
              " 27,\n",
              " 33,\n",
              " 24,\n",
              " 54,\n",
              " 4,\n",
              " 0,\n",
              " 43,\n",
              " 54,\n",
              " 27,\n",
              " 31,\n",
              " 27,\n",
              " 28,\n",
              " 33,\n",
              " 12,\n",
              " 4,\n",
              " 26,\n",
              " 10,\n",
              " 21,\n",
              " 54,\n",
              " 12,\n",
              " 4,\n",
              " 27,\n",
              " 33,\n",
              " 54,\n",
              " 9,\n",
              " 0,\n",
              " 10,\n",
              " 12,\n",
              " 27,\n",
              " 43,\n",
              " 41,\n",
              " 54,\n",
              " 7,\n",
              " 23,\n",
              " 12,\n",
              " 54,\n",
              " 12,\n",
              " 4,\n",
              " 27,\n",
              " 33,\n",
              " 54,\n",
              " 0,\n",
              " 1,\n",
              " 24,\n",
              " 39,\n",
              " 54,\n",
              " 4,\n",
              " 0,\n",
              " 43,\n",
              " 54,\n",
              " 0,\n",
              " 54,\n",
              " 24,\n",
              " 27,\n",
              " 50,\n",
              " 28,\n",
              " 27,\n",
              " 12,\n",
              " 41,\n",
              " 54,\n",
              " 0,\n",
              " 10,\n",
              " 43,\n",
              " 54,\n",
              " 12,\n",
              " 4,\n",
              " 27,\n",
              " 26,\n",
              " 28,\n",
              " 54,\n",
              " 21,\n",
              " 28,\n",
              " 27,\n",
              " 0,\n",
              " 12,\n",
              " 27,\n",
              " 24,\n",
              " 12,\n",
              " 54,\n",
              " 52,\n",
              " 27,\n",
              " 0,\n",
              " 28,\n",
              " 54,\n",
              " 9,\n",
              " 0,\n",
              " 24,\n",
              " 54,\n",
              " 12,\n",
              " 4,\n",
              " 0,\n",
              " 12,\n",
              " 54,\n",
              " 24,\n",
              " 39,\n",
              " 19,\n",
              " 27,\n",
              " 7,\n",
              " 39,\n",
              " 43,\n",
              " 33,\n",
              " 54,\n",
              " 9,\n",
              " 39,\n",
              " 23,\n",
              " 1,\n",
              " 43,\n",
              " 54,\n",
              " 43,\n",
              " 26,\n",
              " 24,\n",
              " 50,\n",
              " 39,\n",
              " 31,\n",
              " 27,\n",
              " 28,\n",
              " 54,\n",
              " 26,\n",
              " 12,\n",
              " 53,\n",
              " 54,\n",
              " 12,\n",
              " 4,\n",
              " 27,\n",
              " 33,\n",
              " 54,\n",
              " 43,\n",
              " 26,\n",
              " 43,\n",
              " 10,\n",
              " 6,\n",
              " 12,\n",
              " 54,\n",
              " 12,\n",
              " 4,\n",
              " 26,\n",
              " 10,\n",
              " 55,\n",
              " 54,\n",
              " 12,\n",
              " 4,\n",
              " 27,\n",
              " 33,\n",
              " 54,\n",
              " 50,\n",
              " 39,\n",
              " 23,\n",
              " 1,\n",
              " 43,\n",
              " 54,\n",
              " 7,\n",
              " 27,\n",
              " 0,\n",
              " 28,\n",
              " 54,\n",
              " 26,\n",
              " 12,\n",
              " 54,\n",
              " 26,\n",
              " 52,\n",
              " 54,\n",
              " 0,\n",
              " 10,\n",
              " 33,\n",
              " 39,\n",
              " 10,\n",
              " 27,\n",
              " 54,\n",
              " 52,\n",
              " 39,\n",
              " 23,\n",
              " 10,\n",
              " 43,\n",
              " 54,\n",
              " 39,\n",
              " 23,\n",
              " 12,\n",
              " 54,\n",
              " 0,\n",
              " 7,\n",
              " 39,\n",
              " 23,\n",
              " 12,\n",
              " 54,\n",
              " 12,\n",
              " 4,\n",
              " 27,\n",
              " 54,\n",
              " 20,\n",
              " 39,\n",
              " 12,\n",
              " 12,\n",
              " 27,\n",
              " 28,\n",
              " 24,\n",
              " 53,\n",
              " 54,\n",
              " 19,\n",
              " 28,\n",
              " 24,\n",
              " 53,\n",
              " 54,\n",
              " 20,\n",
              " 39,\n",
              " 12,\n",
              " 12,\n",
              " 27,\n",
              " 28,\n",
              " 54,\n",
              " 9,\n",
              " 0,\n",
              " 24,\n",
              " 54,\n",
              " 19,\n",
              " 28,\n",
              " 24,\n",
              " 53,\n",
              " 54,\n",
              " 43,\n",
              " 23,\n",
              " 28,\n",
              " 24,\n",
              " 1,\n",
              " 27,\n",
              " 33,\n",
              " 6,\n",
              " 24,\n",
              " 54,\n",
              " 24,\n",
              " 26,\n",
              " 24,\n",
              " 12,\n",
              " 27,\n",
              " 28,\n",
              " 41,\n",
              " 54,\n",
              " 7,\n",
              " 23,\n",
              " 12,\n",
              " 54,\n",
              " 12,\n",
              " 4,\n",
              " 27,\n",
              " 33,\n",
              " 54,\n",
              " 4,\n",
              " 0,\n",
              " 43,\n",
              " 10,\n",
              " 6,\n",
              " 12,\n",
              " 54,\n",
              " 20]"
            ]
          },
          "execution_count": 14,
          "metadata": {},
          "output_type": "execute_result"
        }
      ],
      "source": [
        "tokenized_text[:1000]"
      ]
    },
    {
      "cell_type": "markdown",
      "metadata": {
        "id": "pfpYcaypKcI9"
      },
      "source": [
        "### Organizando y estructurando el dataset"
      ]
    },
    {
      "cell_type": "code",
      "execution_count": 15,
      "metadata": {
        "id": "WSSmg9jtKP0T"
      },
      "outputs": [],
      "source": [
        "# separaremos el dataset entre entrenamiento y validación.\n",
        "# `p_val` será la proporción del corpus que se reservará para validación\n",
        "# `num_val` es la cantidad de secuencias de tamaño `max_context_size` que se usará en validación\n",
        "p_val = 0.1\n",
        "num_val = int(np.ceil(len(tokenized_text)*p_val/max_context_size))"
      ]
    },
    {
      "cell_type": "code",
      "execution_count": 16,
      "metadata": {
        "id": "b7dCpGrdKll0"
      },
      "outputs": [],
      "source": [
        "# separamos la porción de texto utilizada en entrenamiento de la de validación.\n",
        "train_text = tokenized_text[:-num_val*max_context_size]\n",
        "val_text = tokenized_text[-num_val*max_context_size:]"
      ]
    },
    {
      "cell_type": "code",
      "execution_count": 17,
      "metadata": {
        "id": "NmxQdxl8LRCg"
      },
      "outputs": [],
      "source": [
        "tokenized_sentences_val = [val_text[init*max_context_size:init*(max_context_size+1)] for init in range(num_val)]"
      ]
    },
    {
      "cell_type": "code",
      "execution_count": 18,
      "metadata": {
        "id": "_gyFT9koLqDm"
      },
      "outputs": [],
      "source": [
        "tokenized_sentences_train = [train_text[init:init+max_context_size] for init in range(len(train_text)-max_context_size+1)]"
      ]
    },
    {
      "cell_type": "code",
      "execution_count": 19,
      "metadata": {
        "id": "oVNqmmLRodT0"
      },
      "outputs": [],
      "source": [
        "X = np.array(tokenized_sentences_train[:-1])\n",
        "y = np.array(tokenized_sentences_train[1:])"
      ]
    },
    {
      "cell_type": "markdown",
      "metadata": {
        "id": "Vken7O4ETsAJ"
      },
      "source": [
        "Nótese que estamos estructurando el problema de aprendizaje como *many-to-many*:\n",
        "\n",
        "Entrada: secuencia de tokens [$x_0$, $x_1$, ..., $x_N$]\n",
        "\n",
        "Target: secuencia de tokens [$x_1$, $x_2$, ..., $x_{N+1}$]\n",
        "\n",
        "De manera que la red tiene que aprender que su salida deben ser los tokens desplazados en una posición y un nuevo token predicho (el N+1).\n",
        "\n",
        "La ventaja de estructurar el aprendizaje de esta manera es que para cada token de target se propaga una señal de gradiente por el grafo de cómputo recurrente, que es mejor que estructurar el problema como *many-to-one* en donde sólo una señal de gradiente se propaga."
      ]
    },
    {
      "cell_type": "markdown",
      "metadata": {
        "id": "l3iPTx-UJl6r"
      },
      "source": [
        "En este punto tenemos en la variable `tokenized_sentences` los versos tokenizados. Vamos a quedarnos con un conjunto de validación que utilizaremos para medir la calidad de la generación de secuencias con la métrica de Perplejidad."
      ]
    },
    {
      "cell_type": "code",
      "execution_count": 20,
      "metadata": {
        "colab": {
          "base_uri": "https://localhost:8080/"
        },
        "id": "KFAyA4zCWE-5",
        "outputId": "c2790c9a-0264-467a-a440-fa4a9e326af8"
      },
      "outputs": [
        {
          "data": {
            "text/plain": [
              "(413063, 100)"
            ]
          },
          "execution_count": 20,
          "metadata": {},
          "output_type": "execute_result"
        }
      ],
      "source": [
        "X.shape"
      ]
    },
    {
      "cell_type": "code",
      "execution_count": 21,
      "metadata": {
        "colab": {
          "base_uri": "https://localhost:8080/"
        },
        "id": "qcKRl70HFTzG",
        "outputId": "175e77f0-621b-4c23-e0f0-0612fdc411ff"
      },
      "outputs": [
        {
          "data": {
            "text/plain": [
              "array([54, 12,  4, 27, 54,  7, 39, 33, 54,  9])"
            ]
          },
          "execution_count": 21,
          "metadata": {},
          "output_type": "execute_result"
        }
      ],
      "source": [
        "X[0,:10]"
      ]
    },
    {
      "cell_type": "code",
      "execution_count": 22,
      "metadata": {
        "colab": {
          "base_uri": "https://localhost:8080/"
        },
        "id": "TVpLCKSZFXZO",
        "outputId": "e9c3d143-f693-43cf-ec0c-113b878bdde1"
      },
      "outputs": [
        {
          "data": {
            "text/plain": [
              "array([12,  4, 27, 54,  7, 39, 33, 54,  9,  4])"
            ]
          },
          "execution_count": 22,
          "metadata": {},
          "output_type": "execute_result"
        }
      ],
      "source": [
        "y[0,:10]"
      ]
    },
    {
      "cell_type": "code",
      "execution_count": 23,
      "metadata": {
        "colab": {
          "base_uri": "https://localhost:8080/"
        },
        "id": "wOFCR-KqbW1N",
        "outputId": "3c8d7138-2b45-4923-ac1f-8bfc9db2b4f2"
      },
      "outputs": [
        {
          "name": "stdout",
          "output_type": "stream",
          "text": [
            "Vocab size: 57\n"
          ]
        }
      ],
      "source": [
        "vocab_size = len(chars_vocab)\n",
        "print(\"Vocab size:\", vocab_size)"
      ]
    },
    {
      "cell_type": "markdown",
      "metadata": {
        "id": "tnnjdAQ5UAEJ"
      },
      "source": [
        "# Definiendo el modelo"
      ]
    },
    {
      "cell_type": "code",
      "execution_count": 24,
      "metadata": {
        "id": "rkMCZvmhrQz4"
      },
      "outputs": [],
      "source": [
        "from keras.layers import Input, TimeDistributed, CategoryEncoding, SimpleRNN, Dense, GRU\n",
        "from keras.models import Model, Sequential"
      ]
    },
    {
      "cell_type": "markdown",
      "metadata": {
        "id": "wgz7VKwTUbj6"
      },
      "source": [
        "El modelo que se propone como ejemplo consume los índices de los tokens y los transforma en vectores OHE (en este caso no entrenamos una capa de embedding para caracteres). Esa transformación se logra combinando las capas `CategoryEncoding` que transforma a índices a vectores OHE y `TimeDistributed` que aplica la capa a lo largo de la dimensión \"temporal\" de la secuencia.\n",
        "\n",
        "Sumado al modelo original propuesto en clases, voy a crear dos modelos adicionales: LSTM y GRU. Dada la experiencia pasada y el gran coste computacional de entrenar estos modelos, se utilizarán menos conexiones en las capas para su entrenamiento."
      ]
    },
    {
      "cell_type": "markdown",
      "metadata": {
        "id": "AeMQBMbvt9st"
      },
      "source": [
        "### Modelo simpleRNN"
      ]
    },
    {
      "cell_type": "code",
      "execution_count": 25,
      "metadata": {
        "colab": {
          "base_uri": "https://localhost:8080/",
          "height": 260
        },
        "id": "Zd2OkfQYs2Q7",
        "outputId": "218debbf-da8c-4608-cfdf-80206968403c"
      },
      "outputs": [
        {
          "name": "stderr",
          "output_type": "stream",
          "text": [
            "/usr/local/lib/python3.10/dist-packages/keras/src/layers/core/wrapper.py:27: UserWarning: Do not pass an `input_shape`/`input_dim` argument to a layer. When using Sequential models, prefer using an `Input(shape)` object as the first layer in the model instead.\n",
            "  super().__init__(**kwargs)\n"
          ]
        },
        {
          "data": {
            "text/html": [
              "<pre style=\"white-space:pre;overflow-x:auto;line-height:normal;font-family:Menlo,'DejaVu Sans Mono',consolas,'Courier New',monospace\"><span style=\"font-weight: bold\">Model: \"sequential\"</span>\n",
              "</pre>\n"
            ],
            "text/plain": [
              "\u001b[1mModel: \"sequential\"\u001b[0m\n"
            ]
          },
          "metadata": {},
          "output_type": "display_data"
        },
        {
          "data": {
            "text/html": [
              "<pre style=\"white-space:pre;overflow-x:auto;line-height:normal;font-family:Menlo,'DejaVu Sans Mono',consolas,'Courier New',monospace\">┏━━━━━━━━━━━━━━━━━━━━━━━━━━━━━━━━━━━━━━┳━━━━━━━━━━━━━━━━━━━━━━━━━━━━━┳━━━━━━━━━━━━━━━━━┓\n",
              "┃<span style=\"font-weight: bold\"> Layer (type)                         </span>┃<span style=\"font-weight: bold\"> Output Shape                </span>┃<span style=\"font-weight: bold\">         Param # </span>┃\n",
              "┡━━━━━━━━━━━━━━━━━━━━━━━━━━━━━━━━━━━━━━╇━━━━━━━━━━━━━━━━━━━━━━━━━━━━━╇━━━━━━━━━━━━━━━━━┩\n",
              "│ time_distributed (<span style=\"color: #0087ff; text-decoration-color: #0087ff\">TimeDistributed</span>)   │ (<span style=\"color: #00d7ff; text-decoration-color: #00d7ff\">None</span>, <span style=\"color: #00d7ff; text-decoration-color: #00d7ff\">None</span>, <span style=\"color: #00af00; text-decoration-color: #00af00\">57</span>)            │               <span style=\"color: #00af00; text-decoration-color: #00af00\">0</span> │\n",
              "├──────────────────────────────────────┼─────────────────────────────┼─────────────────┤\n",
              "│ simple_rnn (<span style=\"color: #0087ff; text-decoration-color: #0087ff\">SimpleRNN</span>)               │ (<span style=\"color: #00d7ff; text-decoration-color: #00d7ff\">None</span>, <span style=\"color: #00d7ff; text-decoration-color: #00d7ff\">None</span>, <span style=\"color: #00af00; text-decoration-color: #00af00\">200</span>)           │          <span style=\"color: #00af00; text-decoration-color: #00af00\">51,600</span> │\n",
              "├──────────────────────────────────────┼─────────────────────────────┼─────────────────┤\n",
              "│ dense (<span style=\"color: #0087ff; text-decoration-color: #0087ff\">Dense</span>)                        │ (<span style=\"color: #00d7ff; text-decoration-color: #00d7ff\">None</span>, <span style=\"color: #00d7ff; text-decoration-color: #00d7ff\">None</span>, <span style=\"color: #00af00; text-decoration-color: #00af00\">57</span>)            │          <span style=\"color: #00af00; text-decoration-color: #00af00\">11,457</span> │\n",
              "└──────────────────────────────────────┴─────────────────────────────┴─────────────────┘\n",
              "</pre>\n"
            ],
            "text/plain": [
              "┏━━━━━━━━━━━━━━━━━━━━━━━━━━━━━━━━━━━━━━┳━━━━━━━━━━━━━━━━━━━━━━━━━━━━━┳━━━━━━━━━━━━━━━━━┓\n",
              "┃\u001b[1m \u001b[0m\u001b[1mLayer (type)                        \u001b[0m\u001b[1m \u001b[0m┃\u001b[1m \u001b[0m\u001b[1mOutput Shape               \u001b[0m\u001b[1m \u001b[0m┃\u001b[1m \u001b[0m\u001b[1m        Param #\u001b[0m\u001b[1m \u001b[0m┃\n",
              "┡━━━━━━━━━━━━━━━━━━━━━━━━━━━━━━━━━━━━━━╇━━━━━━━━━━━━━━━━━━━━━━━━━━━━━╇━━━━━━━━━━━━━━━━━┩\n",
              "│ time_distributed (\u001b[38;5;33mTimeDistributed\u001b[0m)   │ (\u001b[38;5;45mNone\u001b[0m, \u001b[38;5;45mNone\u001b[0m, \u001b[38;5;34m57\u001b[0m)            │               \u001b[38;5;34m0\u001b[0m │\n",
              "├──────────────────────────────────────┼─────────────────────────────┼─────────────────┤\n",
              "│ simple_rnn (\u001b[38;5;33mSimpleRNN\u001b[0m)               │ (\u001b[38;5;45mNone\u001b[0m, \u001b[38;5;45mNone\u001b[0m, \u001b[38;5;34m200\u001b[0m)           │          \u001b[38;5;34m51,600\u001b[0m │\n",
              "├──────────────────────────────────────┼─────────────────────────────┼─────────────────┤\n",
              "│ dense (\u001b[38;5;33mDense\u001b[0m)                        │ (\u001b[38;5;45mNone\u001b[0m, \u001b[38;5;45mNone\u001b[0m, \u001b[38;5;34m57\u001b[0m)            │          \u001b[38;5;34m11,457\u001b[0m │\n",
              "└──────────────────────────────────────┴─────────────────────────────┴─────────────────┘\n"
            ]
          },
          "metadata": {},
          "output_type": "display_data"
        },
        {
          "data": {
            "text/html": [
              "<pre style=\"white-space:pre;overflow-x:auto;line-height:normal;font-family:Menlo,'DejaVu Sans Mono',consolas,'Courier New',monospace\"><span style=\"font-weight: bold\"> Total params: </span><span style=\"color: #00af00; text-decoration-color: #00af00\">63,057</span> (246.32 KB)\n",
              "</pre>\n"
            ],
            "text/plain": [
              "\u001b[1m Total params: \u001b[0m\u001b[38;5;34m63,057\u001b[0m (246.32 KB)\n"
            ]
          },
          "metadata": {},
          "output_type": "display_data"
        },
        {
          "data": {
            "text/html": [
              "<pre style=\"white-space:pre;overflow-x:auto;line-height:normal;font-family:Menlo,'DejaVu Sans Mono',consolas,'Courier New',monospace\"><span style=\"font-weight: bold\"> Trainable params: </span><span style=\"color: #00af00; text-decoration-color: #00af00\">63,057</span> (246.32 KB)\n",
              "</pre>\n"
            ],
            "text/plain": [
              "\u001b[1m Trainable params: \u001b[0m\u001b[38;5;34m63,057\u001b[0m (246.32 KB)\n"
            ]
          },
          "metadata": {},
          "output_type": "display_data"
        },
        {
          "data": {
            "text/html": [
              "<pre style=\"white-space:pre;overflow-x:auto;line-height:normal;font-family:Menlo,'DejaVu Sans Mono',consolas,'Courier New',monospace\"><span style=\"font-weight: bold\"> Non-trainable params: </span><span style=\"color: #00af00; text-decoration-color: #00af00\">0</span> (0.00 B)\n",
              "</pre>\n"
            ],
            "text/plain": [
              "\u001b[1m Non-trainable params: \u001b[0m\u001b[38;5;34m0\u001b[0m (0.00 B)\n"
            ]
          },
          "metadata": {},
          "output_type": "display_data"
        }
      ],
      "source": [
        "model = Sequential()\n",
        "\n",
        "model.add(TimeDistributed(CategoryEncoding(num_tokens=vocab_size, output_mode = \"one_hot\"),input_shape=(None,1)))\n",
        "model.add(SimpleRNN(200, return_sequences=True, dropout=0.1, recurrent_dropout=0.1 ))\n",
        "model.add(Dense(vocab_size, activation='softmax'))\n",
        "model.compile(loss='sparse_categorical_crossentropy', optimizer='rmsprop')\n",
        "\n",
        "model.summary()"
      ]
    },
    {
      "cell_type": "markdown",
      "metadata": {
        "id": "uewX4yBat9st"
      },
      "source": [
        "### Modelo LSTM"
      ]
    },
    {
      "cell_type": "code",
      "execution_count": 26,
      "metadata": {
        "colab": {
          "base_uri": "https://localhost:8080/",
          "height": 225
        },
        "id": "nAHY0H1Vt9st",
        "outputId": "bdc91920-5de2-4d8b-b08c-f479a47ec616"
      },
      "outputs": [
        {
          "data": {
            "text/html": [
              "<pre style=\"white-space:pre;overflow-x:auto;line-height:normal;font-family:Menlo,'DejaVu Sans Mono',consolas,'Courier New',monospace\"><span style=\"font-weight: bold\">Model: \"sequential_1\"</span>\n",
              "</pre>\n"
            ],
            "text/plain": [
              "\u001b[1mModel: \"sequential_1\"\u001b[0m\n"
            ]
          },
          "metadata": {},
          "output_type": "display_data"
        },
        {
          "data": {
            "text/html": [
              "<pre style=\"white-space:pre;overflow-x:auto;line-height:normal;font-family:Menlo,'DejaVu Sans Mono',consolas,'Courier New',monospace\">┏━━━━━━━━━━━━━━━━━━━━━━━━━━━━━━━━━━━━━━┳━━━━━━━━━━━━━━━━━━━━━━━━━━━━━┳━━━━━━━━━━━━━━━━━┓\n",
              "┃<span style=\"font-weight: bold\"> Layer (type)                         </span>┃<span style=\"font-weight: bold\"> Output Shape                </span>┃<span style=\"font-weight: bold\">         Param # </span>┃\n",
              "┡━━━━━━━━━━━━━━━━━━━━━━━━━━━━━━━━━━━━━━╇━━━━━━━━━━━━━━━━━━━━━━━━━━━━━╇━━━━━━━━━━━━━━━━━┩\n",
              "│ time_distributed_1 (<span style=\"color: #0087ff; text-decoration-color: #0087ff\">TimeDistributed</span>) │ (<span style=\"color: #00d7ff; text-decoration-color: #00d7ff\">None</span>, <span style=\"color: #00d7ff; text-decoration-color: #00d7ff\">None</span>, <span style=\"color: #00af00; text-decoration-color: #00af00\">57</span>)            │               <span style=\"color: #00af00; text-decoration-color: #00af00\">0</span> │\n",
              "├──────────────────────────────────────┼─────────────────────────────┼─────────────────┤\n",
              "│ lstm (<span style=\"color: #0087ff; text-decoration-color: #0087ff\">LSTM</span>)                          │ (<span style=\"color: #00d7ff; text-decoration-color: #00d7ff\">None</span>, <span style=\"color: #00d7ff; text-decoration-color: #00d7ff\">None</span>, <span style=\"color: #00af00; text-decoration-color: #00af00\">100</span>)           │          <span style=\"color: #00af00; text-decoration-color: #00af00\">63,200</span> │\n",
              "├──────────────────────────────────────┼─────────────────────────────┼─────────────────┤\n",
              "│ dense_1 (<span style=\"color: #0087ff; text-decoration-color: #0087ff\">Dense</span>)                      │ (<span style=\"color: #00d7ff; text-decoration-color: #00d7ff\">None</span>, <span style=\"color: #00d7ff; text-decoration-color: #00d7ff\">None</span>, <span style=\"color: #00af00; text-decoration-color: #00af00\">57</span>)            │           <span style=\"color: #00af00; text-decoration-color: #00af00\">5,757</span> │\n",
              "└──────────────────────────────────────┴─────────────────────────────┴─────────────────┘\n",
              "</pre>\n"
            ],
            "text/plain": [
              "┏━━━━━━━━━━━━━━━━━━━━━━━━━━━━━━━━━━━━━━┳━━━━━━━━━━━━━━━━━━━━━━━━━━━━━┳━━━━━━━━━━━━━━━━━┓\n",
              "┃\u001b[1m \u001b[0m\u001b[1mLayer (type)                        \u001b[0m\u001b[1m \u001b[0m┃\u001b[1m \u001b[0m\u001b[1mOutput Shape               \u001b[0m\u001b[1m \u001b[0m┃\u001b[1m \u001b[0m\u001b[1m        Param #\u001b[0m\u001b[1m \u001b[0m┃\n",
              "┡━━━━━━━━━━━━━━━━━━━━━━━━━━━━━━━━━━━━━━╇━━━━━━━━━━━━━━━━━━━━━━━━━━━━━╇━━━━━━━━━━━━━━━━━┩\n",
              "│ time_distributed_1 (\u001b[38;5;33mTimeDistributed\u001b[0m) │ (\u001b[38;5;45mNone\u001b[0m, \u001b[38;5;45mNone\u001b[0m, \u001b[38;5;34m57\u001b[0m)            │               \u001b[38;5;34m0\u001b[0m │\n",
              "├──────────────────────────────────────┼─────────────────────────────┼─────────────────┤\n",
              "│ lstm (\u001b[38;5;33mLSTM\u001b[0m)                          │ (\u001b[38;5;45mNone\u001b[0m, \u001b[38;5;45mNone\u001b[0m, \u001b[38;5;34m100\u001b[0m)           │          \u001b[38;5;34m63,200\u001b[0m │\n",
              "├──────────────────────────────────────┼─────────────────────────────┼─────────────────┤\n",
              "│ dense_1 (\u001b[38;5;33mDense\u001b[0m)                      │ (\u001b[38;5;45mNone\u001b[0m, \u001b[38;5;45mNone\u001b[0m, \u001b[38;5;34m57\u001b[0m)            │           \u001b[38;5;34m5,757\u001b[0m │\n",
              "└──────────────────────────────────────┴─────────────────────────────┴─────────────────┘\n"
            ]
          },
          "metadata": {},
          "output_type": "display_data"
        },
        {
          "data": {
            "text/html": [
              "<pre style=\"white-space:pre;overflow-x:auto;line-height:normal;font-family:Menlo,'DejaVu Sans Mono',consolas,'Courier New',monospace\"><span style=\"font-weight: bold\"> Total params: </span><span style=\"color: #00af00; text-decoration-color: #00af00\">68,957</span> (269.36 KB)\n",
              "</pre>\n"
            ],
            "text/plain": [
              "\u001b[1m Total params: \u001b[0m\u001b[38;5;34m68,957\u001b[0m (269.36 KB)\n"
            ]
          },
          "metadata": {},
          "output_type": "display_data"
        },
        {
          "data": {
            "text/html": [
              "<pre style=\"white-space:pre;overflow-x:auto;line-height:normal;font-family:Menlo,'DejaVu Sans Mono',consolas,'Courier New',monospace\"><span style=\"font-weight: bold\"> Trainable params: </span><span style=\"color: #00af00; text-decoration-color: #00af00\">68,957</span> (269.36 KB)\n",
              "</pre>\n"
            ],
            "text/plain": [
              "\u001b[1m Trainable params: \u001b[0m\u001b[38;5;34m68,957\u001b[0m (269.36 KB)\n"
            ]
          },
          "metadata": {},
          "output_type": "display_data"
        },
        {
          "data": {
            "text/html": [
              "<pre style=\"white-space:pre;overflow-x:auto;line-height:normal;font-family:Menlo,'DejaVu Sans Mono',consolas,'Courier New',monospace\"><span style=\"font-weight: bold\"> Non-trainable params: </span><span style=\"color: #00af00; text-decoration-color: #00af00\">0</span> (0.00 B)\n",
              "</pre>\n"
            ],
            "text/plain": [
              "\u001b[1m Non-trainable params: \u001b[0m\u001b[38;5;34m0\u001b[0m (0.00 B)\n"
            ]
          },
          "metadata": {},
          "output_type": "display_data"
        }
      ],
      "source": [
        "model_lstm = Sequential()\n",
        "\n",
        "model_lstm.add(TimeDistributed(CategoryEncoding(num_tokens=vocab_size, output_mode = \"one_hot\"),input_shape=(None,1)))\n",
        "model_lstm.add(LSTM(100, return_sequences=True, dropout=0.1, recurrent_dropout=0.1 ))\n",
        "model_lstm.add(Dense(vocab_size, activation='softmax'))\n",
        "model_lstm.compile(loss='sparse_categorical_crossentropy', optimizer='rmsprop')\n",
        "\n",
        "model_lstm.summary()"
      ]
    },
    {
      "cell_type": "markdown",
      "metadata": {
        "id": "_Dm2_kKTt9st"
      },
      "source": [
        "### Modelo GRU"
      ]
    },
    {
      "cell_type": "code",
      "execution_count": 27,
      "metadata": {
        "colab": {
          "base_uri": "https://localhost:8080/",
          "height": 225
        },
        "id": "VNl2OYiVt9st",
        "outputId": "a413cdbd-dfa5-4bfa-aab8-1826cbcb78aa"
      },
      "outputs": [
        {
          "data": {
            "text/html": [
              "<pre style=\"white-space:pre;overflow-x:auto;line-height:normal;font-family:Menlo,'DejaVu Sans Mono',consolas,'Courier New',monospace\"><span style=\"font-weight: bold\">Model: \"sequential_2\"</span>\n",
              "</pre>\n"
            ],
            "text/plain": [
              "\u001b[1mModel: \"sequential_2\"\u001b[0m\n"
            ]
          },
          "metadata": {},
          "output_type": "display_data"
        },
        {
          "data": {
            "text/html": [
              "<pre style=\"white-space:pre;overflow-x:auto;line-height:normal;font-family:Menlo,'DejaVu Sans Mono',consolas,'Courier New',monospace\">┏━━━━━━━━━━━━━━━━━━━━━━━━━━━━━━━━━━━━━━┳━━━━━━━━━━━━━━━━━━━━━━━━━━━━━┳━━━━━━━━━━━━━━━━━┓\n",
              "┃<span style=\"font-weight: bold\"> Layer (type)                         </span>┃<span style=\"font-weight: bold\"> Output Shape                </span>┃<span style=\"font-weight: bold\">         Param # </span>┃\n",
              "┡━━━━━━━━━━━━━━━━━━━━━━━━━━━━━━━━━━━━━━╇━━━━━━━━━━━━━━━━━━━━━━━━━━━━━╇━━━━━━━━━━━━━━━━━┩\n",
              "│ time_distributed_2 (<span style=\"color: #0087ff; text-decoration-color: #0087ff\">TimeDistributed</span>) │ (<span style=\"color: #00d7ff; text-decoration-color: #00d7ff\">None</span>, <span style=\"color: #00d7ff; text-decoration-color: #00d7ff\">None</span>, <span style=\"color: #00af00; text-decoration-color: #00af00\">57</span>)            │               <span style=\"color: #00af00; text-decoration-color: #00af00\">0</span> │\n",
              "├──────────────────────────────────────┼─────────────────────────────┼─────────────────┤\n",
              "│ gru (<span style=\"color: #0087ff; text-decoration-color: #0087ff\">GRU</span>)                            │ (<span style=\"color: #00d7ff; text-decoration-color: #00d7ff\">None</span>, <span style=\"color: #00d7ff; text-decoration-color: #00d7ff\">None</span>, <span style=\"color: #00af00; text-decoration-color: #00af00\">100</span>)           │          <span style=\"color: #00af00; text-decoration-color: #00af00\">47,700</span> │\n",
              "├──────────────────────────────────────┼─────────────────────────────┼─────────────────┤\n",
              "│ dense_2 (<span style=\"color: #0087ff; text-decoration-color: #0087ff\">Dense</span>)                      │ (<span style=\"color: #00d7ff; text-decoration-color: #00d7ff\">None</span>, <span style=\"color: #00d7ff; text-decoration-color: #00d7ff\">None</span>, <span style=\"color: #00af00; text-decoration-color: #00af00\">57</span>)            │           <span style=\"color: #00af00; text-decoration-color: #00af00\">5,757</span> │\n",
              "└──────────────────────────────────────┴─────────────────────────────┴─────────────────┘\n",
              "</pre>\n"
            ],
            "text/plain": [
              "┏━━━━━━━━━━━━━━━━━━━━━━━━━━━━━━━━━━━━━━┳━━━━━━━━━━━━━━━━━━━━━━━━━━━━━┳━━━━━━━━━━━━━━━━━┓\n",
              "┃\u001b[1m \u001b[0m\u001b[1mLayer (type)                        \u001b[0m\u001b[1m \u001b[0m┃\u001b[1m \u001b[0m\u001b[1mOutput Shape               \u001b[0m\u001b[1m \u001b[0m┃\u001b[1m \u001b[0m\u001b[1m        Param #\u001b[0m\u001b[1m \u001b[0m┃\n",
              "┡━━━━━━━━━━━━━━━━━━━━━━━━━━━━━━━━━━━━━━╇━━━━━━━━━━━━━━━━━━━━━━━━━━━━━╇━━━━━━━━━━━━━━━━━┩\n",
              "│ time_distributed_2 (\u001b[38;5;33mTimeDistributed\u001b[0m) │ (\u001b[38;5;45mNone\u001b[0m, \u001b[38;5;45mNone\u001b[0m, \u001b[38;5;34m57\u001b[0m)            │               \u001b[38;5;34m0\u001b[0m │\n",
              "├──────────────────────────────────────┼─────────────────────────────┼─────────────────┤\n",
              "│ gru (\u001b[38;5;33mGRU\u001b[0m)                            │ (\u001b[38;5;45mNone\u001b[0m, \u001b[38;5;45mNone\u001b[0m, \u001b[38;5;34m100\u001b[0m)           │          \u001b[38;5;34m47,700\u001b[0m │\n",
              "├──────────────────────────────────────┼─────────────────────────────┼─────────────────┤\n",
              "│ dense_2 (\u001b[38;5;33mDense\u001b[0m)                      │ (\u001b[38;5;45mNone\u001b[0m, \u001b[38;5;45mNone\u001b[0m, \u001b[38;5;34m57\u001b[0m)            │           \u001b[38;5;34m5,757\u001b[0m │\n",
              "└──────────────────────────────────────┴─────────────────────────────┴─────────────────┘\n"
            ]
          },
          "metadata": {},
          "output_type": "display_data"
        },
        {
          "data": {
            "text/html": [
              "<pre style=\"white-space:pre;overflow-x:auto;line-height:normal;font-family:Menlo,'DejaVu Sans Mono',consolas,'Courier New',monospace\"><span style=\"font-weight: bold\"> Total params: </span><span style=\"color: #00af00; text-decoration-color: #00af00\">53,457</span> (208.82 KB)\n",
              "</pre>\n"
            ],
            "text/plain": [
              "\u001b[1m Total params: \u001b[0m\u001b[38;5;34m53,457\u001b[0m (208.82 KB)\n"
            ]
          },
          "metadata": {},
          "output_type": "display_data"
        },
        {
          "data": {
            "text/html": [
              "<pre style=\"white-space:pre;overflow-x:auto;line-height:normal;font-family:Menlo,'DejaVu Sans Mono',consolas,'Courier New',monospace\"><span style=\"font-weight: bold\"> Trainable params: </span><span style=\"color: #00af00; text-decoration-color: #00af00\">53,457</span> (208.82 KB)\n",
              "</pre>\n"
            ],
            "text/plain": [
              "\u001b[1m Trainable params: \u001b[0m\u001b[38;5;34m53,457\u001b[0m (208.82 KB)\n"
            ]
          },
          "metadata": {},
          "output_type": "display_data"
        },
        {
          "data": {
            "text/html": [
              "<pre style=\"white-space:pre;overflow-x:auto;line-height:normal;font-family:Menlo,'DejaVu Sans Mono',consolas,'Courier New',monospace\"><span style=\"font-weight: bold\"> Non-trainable params: </span><span style=\"color: #00af00; text-decoration-color: #00af00\">0</span> (0.00 B)\n",
              "</pre>\n"
            ],
            "text/plain": [
              "\u001b[1m Non-trainable params: \u001b[0m\u001b[38;5;34m0\u001b[0m (0.00 B)\n"
            ]
          },
          "metadata": {},
          "output_type": "display_data"
        }
      ],
      "source": [
        "model_gru = Sequential()\n",
        "\n",
        "model_gru.add(TimeDistributed(CategoryEncoding(num_tokens=vocab_size, output_mode = \"one_hot\"),input_shape=(None,1)))\n",
        "model_gru.add(GRU(100, return_sequences=True, dropout=0.1, recurrent_dropout=0.1 ))\n",
        "model_gru.add(Dense(vocab_size, activation='softmax'))\n",
        "model_gru.compile(loss='sparse_categorical_crossentropy', optimizer='rmsprop')\n",
        "\n",
        "model_gru.summary()"
      ]
    },
    {
      "cell_type": "markdown",
      "metadata": {
        "id": "GmJWNyxQwfCE"
      },
      "source": [
        "\n",
        "### Definir el modelo"
      ]
    },
    {
      "cell_type": "markdown",
      "metadata": {
        "id": "YWK3z85sQfUe"
      },
      "source": [
        "Dado que por el momento no hay implementaciones adecuadas de la perplejidad que puedan operar en tiempo de entrenamiento, armaremos un Callback *ad-hoc* que la calcule en cada epoch.\n",
        "\n",
        "**Nota**: un Callback es una rutina gatillada por algún evento, son muy útiles para relevar datos en diferentes momentos del desarrollo del modelo. En este caso queremos hacer un cálculo cada vez que termina una epoch de entrenamiento."
      ]
    },
    {
      "cell_type": "code",
      "execution_count": 28,
      "metadata": {
        "id": "zUHX3r5JD-MG"
      },
      "outputs": [],
      "source": [
        "class PplCallback(keras.callbacks.Callback):\n",
        "\n",
        "    '''\n",
        "    Este callback es una solución ad-hoc para calcular al final de cada epoch de\n",
        "    entrenamiento la métrica de Perplejidad sobre un conjunto de datos de validación.\n",
        "    La perplejidad es una métrica cuantitativa para evaluar la calidad de la generación de secuencias.\n",
        "    Además implementa la finalización del entrenamiento (Early Stopping)\n",
        "    si la perplejidad no mejora después de `patience` epochs.\n",
        "    '''\n",
        "\n",
        "    def __init__(self, val_data, history_ppl,patience=5, model_name='best_model'):\n",
        "      # El callback lo inicializamos con secuencias de validación sobre las cuales\n",
        "      # mediremos la perplejidad\n",
        "      self.val_data = val_data\n",
        "\n",
        "      self.target = []\n",
        "      self.padded = []\n",
        "\n",
        "      count = 0\n",
        "      self.info = []\n",
        "      self.min_score = np.inf\n",
        "      self.patience_counter = 0\n",
        "      self.patience = patience\n",
        "      self.model_name = model_name\n",
        "      self.history_ppl = history_ppl\n",
        "\n",
        "      # nos movemos en todas las secuencias de los datos de validación\n",
        "      for seq in self.val_data:\n",
        "\n",
        "        len_seq = len(seq)\n",
        "        # armamos todas las subsecuencias\n",
        "        subseq = [seq[:i] for i in range(1,len_seq)]\n",
        "        self.target.extend([seq[i] for i in range(1,len_seq)])\n",
        "\n",
        "        if len(subseq)!=0:\n",
        "\n",
        "          self.padded.append(pad_sequences(subseq, maxlen=max_context_size, padding='pre'))\n",
        "\n",
        "          self.info.append((count,count+len_seq))\n",
        "          count += len_seq\n",
        "\n",
        "      self.padded = np.vstack(self.padded)\n",
        "\n",
        "\n",
        "    def on_epoch_end(self, epoch, logs=None):\n",
        "\n",
        "        # en `scores` iremos guardando la perplejidad de cada secuencia\n",
        "        scores = []\n",
        "\n",
        "        predictions = self.model.predict(self.padded,verbose=0)\n",
        "\n",
        "        # para cada secuencia de validación\n",
        "        for start,end in self.info:\n",
        "\n",
        "          # en `probs` iremos guardando las probabilidades de los términos target\n",
        "          probs = [predictions[idx_seq,-1,idx_vocab] for idx_seq, idx_vocab in zip(range(start,end),self.target[start:end])]\n",
        "\n",
        "          # calculamos la perplejidad por medio de logaritmos\n",
        "          scores.append(np.exp(-np.sum(np.log(probs))/(end-start)))\n",
        "\n",
        "        # promediamos todos los scores e imprimimos el valor promedio\n",
        "        current_score = np.mean(scores)\n",
        "        self.history_ppl.append(current_score)\n",
        "        print(f'\\n mean perplexity: {current_score} \\n')\n",
        "\n",
        "        # chequeamos si tenemos que detener el entrenamiento\n",
        "        if current_score < self.min_score:\n",
        "          self.min_score = current_score\n",
        "          save_path = f'drive/MyDrive/Colab Notebooks/desafio_3/{self.model_name}.keras'\n",
        "          self.model.save(save_path) #my_model.h5\n",
        "          print(f\"Saved new model: {self.model_name}.keras\")\n",
        "          self.patience_counter = 0\n",
        "        else:\n",
        "          self.patience_counter += 1\n",
        "          if self.patience_counter == self.patience:\n",
        "            print(\"Stopping training...\")\n",
        "            self.model.stop_training = True\n"
      ]
    },
    {
      "cell_type": "markdown",
      "metadata": {
        "id": "8HBZIwR0gruA"
      },
      "source": [
        "### Entrenamiento"
      ]
    },
    {
      "cell_type": "markdown",
      "metadata": {
        "id": "gn6qyqKkt9sw"
      },
      "source": [
        "#### Entrenamiento simpleRNN"
      ]
    },
    {
      "cell_type": "code",
      "execution_count": null,
      "metadata": {
        "colab": {
          "base_uri": "https://localhost:8080/"
        },
        "id": "oQq1PHDkxDvN",
        "outputId": "45ab024f-f9a4-4478-8153-8d7c6bf678b7"
      },
      "outputs": [
        {
          "name": "stdout",
          "output_type": "stream",
          "text": [
            "Epoch 1/20\n",
            "\u001b[1m1614/1614\u001b[0m \u001b[32m━━━━━━━━━━━━━━━━━━━━\u001b[0m\u001b[37m\u001b[0m \u001b[1m0s\u001b[0m 17ms/step - loss: 2.3534\n",
            " mean perplexity: 5.589537286103571 \n",
            "\n",
            "Saved new model: model_simpleRNN.keras\n",
            "\u001b[1m1614/1614\u001b[0m \u001b[32m━━━━━━━━━━━━━━━━━━━━\u001b[0m\u001b[37m\u001b[0m \u001b[1m61s\u001b[0m 34ms/step - loss: 2.3533\n",
            "Epoch 2/20\n",
            "\u001b[1m1614/1614\u001b[0m \u001b[32m━━━━━━━━━━━━━━━━━━━━\u001b[0m\u001b[37m\u001b[0m \u001b[1m0s\u001b[0m 15ms/step - loss: 1.7906\n",
            " mean perplexity: 4.885896100435235 \n",
            "\n",
            "Saved new model: model_simpleRNN.keras\n",
            "\u001b[1m1614/1614\u001b[0m \u001b[32m━━━━━━━━━━━━━━━━━━━━\u001b[0m\u001b[37m\u001b[0m \u001b[1m46s\u001b[0m 28ms/step - loss: 1.7906\n",
            "Epoch 3/20\n",
            "\u001b[1m1614/1614\u001b[0m \u001b[32m━━━━━━━━━━━━━━━━━━━━\u001b[0m\u001b[37m\u001b[0m \u001b[1m0s\u001b[0m 15ms/step - loss: 1.6876\n",
            " mean perplexity: 4.729709749915466 \n",
            "\n",
            "Saved new model: model_simpleRNN.keras\n",
            "\u001b[1m1614/1614\u001b[0m \u001b[32m━━━━━━━━━━━━━━━━━━━━\u001b[0m\u001b[37m\u001b[0m \u001b[1m46s\u001b[0m 28ms/step - loss: 1.6876\n",
            "Epoch 4/20\n",
            "\u001b[1m1611/1614\u001b[0m \u001b[32m━━━━━━━━━━━━━━━━━━━\u001b[0m\u001b[37m━\u001b[0m \u001b[1m0s\u001b[0m 15ms/step - loss: 1.6464\n",
            " mean perplexity: 4.648607036571634 \n",
            "\n",
            "Saved new model: model_simpleRNN.keras\n",
            "\u001b[1m1614/1614\u001b[0m \u001b[32m━━━━━━━━━━━━━━━━━━━━\u001b[0m\u001b[37m\u001b[0m \u001b[1m46s\u001b[0m 28ms/step - loss: 1.6464\n",
            "Epoch 5/20\n",
            "\u001b[1m1614/1614\u001b[0m \u001b[32m━━━━━━━━━━━━━━━━━━━━\u001b[0m\u001b[37m\u001b[0m \u001b[1m0s\u001b[0m 15ms/step - loss: 1.6211\n",
            " mean perplexity: 4.530915772601736 \n",
            "\n",
            "Saved new model: model_simpleRNN.keras\n",
            "\u001b[1m1614/1614\u001b[0m \u001b[32m━━━━━━━━━━━━━━━━━━━━\u001b[0m\u001b[37m\u001b[0m \u001b[1m46s\u001b[0m 28ms/step - loss: 1.6211\n",
            "Epoch 6/20\n",
            "\u001b[1m1611/1614\u001b[0m \u001b[32m━━━━━━━━━━━━━━━━━━━\u001b[0m\u001b[37m━\u001b[0m \u001b[1m0s\u001b[0m 15ms/step - loss: 1.6055\n",
            " mean perplexity: 4.498269187982869 \n",
            "\n",
            "Saved new model: model_simpleRNN.keras\n",
            "\u001b[1m1614/1614\u001b[0m \u001b[32m━━━━━━━━━━━━━━━━━━━━\u001b[0m\u001b[37m\u001b[0m \u001b[1m46s\u001b[0m 28ms/step - loss: 1.6055\n",
            "Epoch 7/20\n",
            "\u001b[1m1613/1614\u001b[0m \u001b[32m━━━━━━━━━━━━━━━━━━━\u001b[0m\u001b[37m━\u001b[0m \u001b[1m0s\u001b[0m 15ms/step - loss: 1.5948\n",
            " mean perplexity: 4.489183802678399 \n",
            "\n",
            "Saved new model: model_simpleRNN.keras\n",
            "\u001b[1m1614/1614\u001b[0m \u001b[32m━━━━━━━━━━━━━━━━━━━━\u001b[0m\u001b[37m\u001b[0m \u001b[1m46s\u001b[0m 28ms/step - loss: 1.5948\n",
            "Epoch 8/20\n",
            "\u001b[1m1613/1614\u001b[0m \u001b[32m━━━━━━━━━━━━━━━━━━━\u001b[0m\u001b[37m━\u001b[0m \u001b[1m0s\u001b[0m 15ms/step - loss: 1.5866\n",
            " mean perplexity: 4.368963293053095 \n",
            "\n",
            "Saved new model: model_simpleRNN.keras\n",
            "\u001b[1m1614/1614\u001b[0m \u001b[32m━━━━━━━━━━━━━━━━━━━━\u001b[0m\u001b[37m\u001b[0m \u001b[1m46s\u001b[0m 28ms/step - loss: 1.5866\n",
            "Epoch 9/20\n",
            "\u001b[1m1613/1614\u001b[0m \u001b[32m━━━━━━━━━━━━━━━━━━━\u001b[0m\u001b[37m━\u001b[0m \u001b[1m0s\u001b[0m 15ms/step - loss: 1.5790\n",
            " mean perplexity: 4.3790417521094565 \n",
            "\n",
            "\u001b[1m1614/1614\u001b[0m \u001b[32m━━━━━━━━━━━━━━━━━━━━\u001b[0m\u001b[37m\u001b[0m \u001b[1m46s\u001b[0m 28ms/step - loss: 1.5790\n",
            "Epoch 10/20\n",
            "\u001b[1m1611/1614\u001b[0m \u001b[32m━━━━━━━━━━━━━━━━━━━\u001b[0m\u001b[37m━\u001b[0m \u001b[1m0s\u001b[0m 15ms/step - loss: 1.5740\n",
            " mean perplexity: 4.321705946999909 \n",
            "\n",
            "Saved new model: model_simpleRNN.keras\n",
            "\u001b[1m1614/1614\u001b[0m \u001b[32m━━━━━━━━━━━━━━━━━━━━\u001b[0m\u001b[37m\u001b[0m \u001b[1m46s\u001b[0m 28ms/step - loss: 1.5740\n",
            "Epoch 11/20\n",
            "\u001b[1m1613/1614\u001b[0m \u001b[32m━━━━━━━━━━━━━━━━━━━\u001b[0m\u001b[37m━\u001b[0m \u001b[1m0s\u001b[0m 15ms/step - loss: 1.5701\n",
            " mean perplexity: 4.306948678348155 \n",
            "\n",
            "Saved new model: model_simpleRNN.keras\n",
            "\u001b[1m1614/1614\u001b[0m \u001b[32m━━━━━━━━━━━━━━━━━━━━\u001b[0m\u001b[37m\u001b[0m \u001b[1m46s\u001b[0m 29ms/step - loss: 1.5701\n",
            "Epoch 12/20\n",
            "\u001b[1m1614/1614\u001b[0m \u001b[32m━━━━━━━━━━━━━━━━━━━━\u001b[0m\u001b[37m\u001b[0m \u001b[1m0s\u001b[0m 16ms/step - loss: 1.5655\n",
            " mean perplexity: 4.297105338587828 \n",
            "\n",
            "Saved new model: model_simpleRNN.keras\n",
            "\u001b[1m1614/1614\u001b[0m \u001b[32m━━━━━━━━━━━━━━━━━━━━\u001b[0m\u001b[37m\u001b[0m \u001b[1m47s\u001b[0m 29ms/step - loss: 1.5655\n",
            "Epoch 13/20\n",
            "\u001b[1m1614/1614\u001b[0m \u001b[32m━━━━━━━━━━━━━━━━━━━━\u001b[0m\u001b[37m\u001b[0m \u001b[1m0s\u001b[0m 16ms/step - loss: 1.5613\n",
            " mean perplexity: 4.2505843565718076 \n",
            "\n",
            "Saved new model: model_simpleRNN.keras\n",
            "\u001b[1m1614/1614\u001b[0m \u001b[32m━━━━━━━━━━━━━━━━━━━━\u001b[0m\u001b[37m\u001b[0m \u001b[1m47s\u001b[0m 29ms/step - loss: 1.5613\n",
            "Epoch 14/20\n",
            "\u001b[1m1613/1614\u001b[0m \u001b[32m━━━━━━━━━━━━━━━━━━━\u001b[0m\u001b[37m━\u001b[0m \u001b[1m0s\u001b[0m 16ms/step - loss: 1.5587\n",
            " mean perplexity: 4.276857734414394 \n",
            "\n",
            "\u001b[1m1614/1614\u001b[0m \u001b[32m━━━━━━━━━━━━━━━━━━━━\u001b[0m\u001b[37m\u001b[0m \u001b[1m47s\u001b[0m 29ms/step - loss: 1.5587\n",
            "Epoch 15/20\n",
            "\u001b[1m1611/1614\u001b[0m \u001b[32m━━━━━━━━━━━━━━━━━━━\u001b[0m\u001b[37m━\u001b[0m \u001b[1m0s\u001b[0m 16ms/step - loss: 1.5559\n",
            " mean perplexity: 4.230248442850364 \n",
            "\n",
            "Saved new model: model_simpleRNN.keras\n",
            "\u001b[1m1614/1614\u001b[0m \u001b[32m━━━━━━━━━━━━━━━━━━━━\u001b[0m\u001b[37m\u001b[0m \u001b[1m47s\u001b[0m 29ms/step - loss: 1.5559\n"
          ]
        }
      ],
      "source": [
        "# fiteamos, nótese el agregado del callback con su inicialización. El batch_size lo podemos seleccionar a mano\n",
        "# en general, lo mejor es escoger el batch más grande posible que minimice el tiempo de cada época.\n",
        "# En la variable `history_ppl` se guardarán los valores de perplejidad para cada época.\n",
        "history_ppl = []\n",
        "hist = model.fit(X, y, epochs=20, callbacks=[PplCallback(tokenized_sentences_val,history_ppl, model_name='model_simpleRNN')], batch_size=256)"
      ]
    },
    {
      "cell_type": "markdown",
      "metadata": {
        "id": "iBsqIkHBxzvN"
      },
      "source": [
        "#### Entrenamiento LSTM"
      ]
    },
    {
      "cell_type": "code",
      "execution_count": null,
      "metadata": {
        "colab": {
          "base_uri": "https://localhost:8080/"
        },
        "id": "ud8RMDHYxzNy",
        "outputId": "b5e971f2-034c-4745-96f5-536411e0a3e1"
      },
      "outputs": [
        {
          "name": "stdout",
          "output_type": "stream",
          "text": [
            "Epoch 1/20\n",
            "\u001b[1m1614/1614\u001b[0m \u001b[32m━━━━━━━━━━━━━━━━━━━━\u001b[0m\u001b[37m\u001b[0m \u001b[1m0s\u001b[0m 84ms/step - loss: 2.7263\n",
            " mean perplexity: 8.586886073555608 \n",
            "\n",
            "Saved new model: model_lstm.keras\n",
            "\u001b[1m1614/1614\u001b[0m \u001b[32m━━━━━━━━━━━━━━━━━━━━\u001b[0m\u001b[37m\u001b[0m \u001b[1m244s\u001b[0m 147ms/step - loss: 2.7262\n",
            "Epoch 2/20\n",
            "\u001b[1m1614/1614\u001b[0m \u001b[32m━━━━━━━━━━━━━━━━━━━━\u001b[0m\u001b[37m\u001b[0m \u001b[1m0s\u001b[0m 84ms/step - loss: 2.1833\n",
            " mean perplexity: 7.1592440669760835 \n",
            "\n",
            "Saved new model: model_lstm.keras\n",
            "\u001b[1m1614/1614\u001b[0m \u001b[32m━━━━━━━━━━━━━━━━━━━━\u001b[0m\u001b[37m\u001b[0m \u001b[1m235s\u001b[0m 146ms/step - loss: 2.1833\n",
            "Epoch 3/20\n",
            "\u001b[1m1614/1614\u001b[0m \u001b[32m━━━━━━━━━━━━━━━━━━━━\u001b[0m\u001b[37m\u001b[0m \u001b[1m0s\u001b[0m 85ms/step - loss: 2.0375\n",
            " mean perplexity: 6.3657185465364545 \n",
            "\n",
            "Saved new model: model_lstm.keras\n",
            "\u001b[1m1614/1614\u001b[0m \u001b[32m━━━━━━━━━━━━━━━━━━━━\u001b[0m\u001b[37m\u001b[0m \u001b[1m235s\u001b[0m 146ms/step - loss: 2.0375\n",
            "Epoch 4/20\n",
            "\u001b[1m1614/1614\u001b[0m \u001b[32m━━━━━━━━━━━━━━━━━━━━\u001b[0m\u001b[37m\u001b[0m \u001b[1m0s\u001b[0m 84ms/step - loss: 1.9487\n",
            " mean perplexity: 5.88493669165991 \n",
            "\n",
            "Saved new model: model_lstm.keras\n",
            "\u001b[1m1614/1614\u001b[0m \u001b[32m━━━━━━━━━━━━━━━━━━━━\u001b[0m\u001b[37m\u001b[0m \u001b[1m234s\u001b[0m 145ms/step - loss: 1.9487\n",
            "Epoch 5/20\n",
            "\u001b[1m1614/1614\u001b[0m \u001b[32m━━━━━━━━━━━━━━━━━━━━\u001b[0m\u001b[37m\u001b[0m \u001b[1m0s\u001b[0m 84ms/step - loss: 1.8925\n",
            " mean perplexity: 5.591976333933238 \n",
            "\n",
            "Saved new model: model_lstm.keras\n",
            "\u001b[1m1614/1614\u001b[0m \u001b[32m━━━━━━━━━━━━━━━━━━━━\u001b[0m\u001b[37m\u001b[0m \u001b[1m232s\u001b[0m 144ms/step - loss: 1.8925\n",
            "Epoch 6/20\n",
            "\u001b[1m1614/1614\u001b[0m \u001b[32m━━━━━━━━━━━━━━━━━━━━\u001b[0m\u001b[37m\u001b[0m \u001b[1m0s\u001b[0m 84ms/step - loss: 1.8539\n",
            " mean perplexity: 5.394154624671091 \n",
            "\n",
            "Saved new model: model_lstm.keras\n",
            "\u001b[1m1614/1614\u001b[0m \u001b[32m━━━━━━━━━━━━━━━━━━━━\u001b[0m\u001b[37m\u001b[0m \u001b[1m235s\u001b[0m 146ms/step - loss: 1.8539\n",
            "Epoch 7/20\n",
            "\u001b[1m1614/1614\u001b[0m \u001b[32m━━━━━━━━━━━━━━━━━━━━\u001b[0m\u001b[37m\u001b[0m \u001b[1m0s\u001b[0m 84ms/step - loss: 1.8262\n",
            " mean perplexity: 5.2527963221082885 \n",
            "\n",
            "Saved new model: model_lstm.keras\n",
            "\u001b[1m1614/1614\u001b[0m \u001b[32m━━━━━━━━━━━━━━━━━━━━\u001b[0m\u001b[37m\u001b[0m \u001b[1m235s\u001b[0m 146ms/step - loss: 1.8262\n",
            "Epoch 8/20\n",
            "\u001b[1m1614/1614\u001b[0m \u001b[32m━━━━━━━━━━━━━━━━━━━━\u001b[0m\u001b[37m\u001b[0m \u001b[1m0s\u001b[0m 85ms/step - loss: 1.8075\n",
            " mean perplexity: 5.160025110909153 \n",
            "\n",
            "Saved new model: model_lstm.keras\n",
            "\u001b[1m1614/1614\u001b[0m \u001b[32m━━━━━━━━━━━━━━━━━━━━\u001b[0m\u001b[37m\u001b[0m \u001b[1m234s\u001b[0m 145ms/step - loss: 1.8075\n",
            "Epoch 9/20\n",
            "\u001b[1m1614/1614\u001b[0m \u001b[32m━━━━━━━━━━━━━━━━━━━━\u001b[0m\u001b[37m\u001b[0m \u001b[1m0s\u001b[0m 85ms/step - loss: 1.7923\n",
            " mean perplexity: 5.079291281277288 \n",
            "\n",
            "Saved new model: model_lstm.keras\n",
            "\u001b[1m1614/1614\u001b[0m \u001b[32m━━━━━━━━━━━━━━━━━━━━\u001b[0m\u001b[37m\u001b[0m \u001b[1m233s\u001b[0m 145ms/step - loss: 1.7923\n",
            "Epoch 10/20\n",
            "\u001b[1m1614/1614\u001b[0m \u001b[32m━━━━━━━━━━━━━━━━━━━━\u001b[0m\u001b[37m\u001b[0m \u001b[1m0s\u001b[0m 85ms/step - loss: 1.7793\n",
            " mean perplexity: 5.023216472225087 \n",
            "\n",
            "Saved new model: model_lstm.keras\n",
            "\u001b[1m1614/1614\u001b[0m \u001b[32m━━━━━━━━━━━━━━━━━━━━\u001b[0m\u001b[37m\u001b[0m \u001b[1m234s\u001b[0m 145ms/step - loss: 1.7793\n",
            "Epoch 11/20\n",
            "\u001b[1m1614/1614\u001b[0m \u001b[32m━━━━━━━━━━━━━━━━━━━━\u001b[0m\u001b[37m\u001b[0m \u001b[1m0s\u001b[0m 84ms/step - loss: 1.7686\n",
            " mean perplexity: 4.989190820699406 \n",
            "\n",
            "Saved new model: model_lstm.keras\n",
            "\u001b[1m1614/1614\u001b[0m \u001b[32m━━━━━━━━━━━━━━━━━━━━\u001b[0m\u001b[37m\u001b[0m \u001b[1m234s\u001b[0m 145ms/step - loss: 1.7686\n",
            "Epoch 12/20\n",
            "\u001b[1m1614/1614\u001b[0m \u001b[32m━━━━━━━━━━━━━━━━━━━━\u001b[0m\u001b[37m\u001b[0m \u001b[1m0s\u001b[0m 85ms/step - loss: 1.7590\n",
            " mean perplexity: 4.986355393320211 \n",
            "\n",
            "Saved new model: model_lstm.keras\n",
            "\u001b[1m1614/1614\u001b[0m \u001b[32m━━━━━━━━━━━━━━━━━━━━\u001b[0m\u001b[37m\u001b[0m \u001b[1m234s\u001b[0m 145ms/step - loss: 1.7590\n",
            "Epoch 13/20\n",
            "\u001b[1m1614/1614\u001b[0m \u001b[32m━━━━━━━━━━━━━━━━━━━━\u001b[0m\u001b[37m\u001b[0m \u001b[1m0s\u001b[0m 86ms/step - loss: 1.7491\n",
            " mean perplexity: 4.964170976433986 \n",
            "\n",
            "Saved new model: model_lstm.keras\n",
            "\u001b[1m1614/1614\u001b[0m \u001b[32m━━━━━━━━━━━━━━━━━━━━\u001b[0m\u001b[37m\u001b[0m \u001b[1m242s\u001b[0m 150ms/step - loss: 1.7491\n",
            "Epoch 14/20\n",
            "\u001b[1m1614/1614\u001b[0m \u001b[32m━━━━━━━━━━━━━━━━━━━━\u001b[0m\u001b[37m\u001b[0m \u001b[1m0s\u001b[0m 91ms/step - loss: 1.7381\n",
            " mean perplexity: 4.940569923688186 \n",
            "\n",
            "Saved new model: model_lstm.keras\n",
            "\u001b[1m1614/1614\u001b[0m \u001b[32m━━━━━━━━━━━━━━━━━━━━\u001b[0m\u001b[37m\u001b[0m \u001b[1m249s\u001b[0m 154ms/step - loss: 1.7381\n",
            "Epoch 15/20\n",
            "\u001b[1m1614/1614\u001b[0m \u001b[32m━━━━━━━━━━━━━━━━━━━━\u001b[0m\u001b[37m\u001b[0m \u001b[1m0s\u001b[0m 90ms/step - loss: 1.7289\n",
            " mean perplexity: 4.933642263629879 \n",
            "\n",
            "Saved new model: model_lstm.keras\n",
            "\u001b[1m1614/1614\u001b[0m \u001b[32m━━━━━━━━━━━━━━━━━━━━\u001b[0m\u001b[37m\u001b[0m \u001b[1m244s\u001b[0m 151ms/step - loss: 1.7289\n",
            "Epoch 16/20\n",
            "\u001b[1m1614/1614\u001b[0m \u001b[32m━━━━━━━━━━━━━━━━━━━━\u001b[0m\u001b[37m\u001b[0m \u001b[1m0s\u001b[0m 91ms/step - loss: 1.7196\n",
            " mean perplexity: 4.917829149615281 \n",
            "\n",
            "Saved new model: model_lstm.keras\n",
            "\u001b[1m1614/1614\u001b[0m \u001b[32m━━━━━━━━━━━━━━━━━━━━\u001b[0m\u001b[37m\u001b[0m \u001b[1m248s\u001b[0m 154ms/step - loss: 1.7196\n",
            "Epoch 17/20\n",
            "\u001b[1m1614/1614\u001b[0m \u001b[32m━━━━━━━━━━━━━━━━━━━━\u001b[0m\u001b[37m\u001b[0m \u001b[1m0s\u001b[0m 91ms/step - loss: 1.7115\n",
            " mean perplexity: 4.886698369688592 \n",
            "\n",
            "Saved new model: model_lstm.keras\n",
            "\u001b[1m1614/1614\u001b[0m \u001b[32m━━━━━━━━━━━━━━━━━━━━\u001b[0m\u001b[37m\u001b[0m \u001b[1m248s\u001b[0m 153ms/step - loss: 1.7115\n",
            "Epoch 18/20\n",
            "\u001b[1m1614/1614\u001b[0m \u001b[32m━━━━━━━━━━━━━━━━━━━━\u001b[0m\u001b[37m\u001b[0m \u001b[1m0s\u001b[0m 91ms/step - loss: 1.7048\n",
            " mean perplexity: 4.8543542103308885 \n",
            "\n",
            "Saved new model: model_lstm.keras\n",
            "\u001b[1m1614/1614\u001b[0m \u001b[32m━━━━━━━━━━━━━━━━━━━━\u001b[0m\u001b[37m\u001b[0m \u001b[1m247s\u001b[0m 153ms/step - loss: 1.7048\n",
            "Epoch 19/20\n",
            "\u001b[1m1614/1614\u001b[0m \u001b[32m━━━━━━━━━━━━━━━━━━━━\u001b[0m\u001b[37m\u001b[0m \u001b[1m0s\u001b[0m 91ms/step - loss: 1.6978\n",
            " mean perplexity: 4.796491839040855 \n",
            "\n",
            "Saved new model: model_lstm.keras\n",
            "\u001b[1m1614/1614\u001b[0m \u001b[32m━━━━━━━━━━━━━━━━━━━━\u001b[0m\u001b[37m\u001b[0m \u001b[1m247s\u001b[0m 153ms/step - loss: 1.6978\n",
            "Epoch 20/20\n",
            "\u001b[1m1614/1614\u001b[0m \u001b[32m━━━━━━━━━━━━━━━━━━━━\u001b[0m\u001b[37m\u001b[0m \u001b[1m0s\u001b[0m 90ms/step - loss: 1.6900\n",
            " mean perplexity: 4.783208406944184 \n",
            "\n",
            "Saved new model: model_lstm.keras\n",
            "\u001b[1m1614/1614\u001b[0m \u001b[32m━━━━━━━━━━━━━━━━━━━━\u001b[0m\u001b[37m\u001b[0m \u001b[1m248s\u001b[0m 153ms/step - loss: 1.6900\n"
          ]
        }
      ],
      "source": [
        "history_ppl_lstm = []\n",
        "hist_lstm = model_lstm.fit(X, y, epochs=20, callbacks=[PplCallback(tokenized_sentences_val,history_ppl_lstm, model_name='model_lstm')], batch_size=256)"
      ]
    },
    {
      "cell_type": "markdown",
      "metadata": {
        "id": "ApTjdwTvx9Yu"
      },
      "source": [
        "#### Entrenamiento GRU"
      ]
    },
    {
      "cell_type": "code",
      "execution_count": null,
      "metadata": {
        "colab": {
          "base_uri": "https://localhost:8080/"
        },
        "id": "umvZm6vCySKG",
        "outputId": "4af0bd7e-3585-446b-ccd9-b9f54a7ef5b8"
      },
      "outputs": [
        {
          "name": "stdout",
          "output_type": "stream",
          "text": [
            "Epoch 1/20\n",
            "\u001b[1m1614/1614\u001b[0m \u001b[32m━━━━━━━━━━━━━━━━━━━━\u001b[0m\u001b[37m\u001b[0m \u001b[1m0s\u001b[0m 128ms/step - loss: 2.5035\n",
            " mean perplexity: 5.84204279590027 \n",
            "\n",
            "Saved new model: model_gru.keras\n",
            "\u001b[1m1614/1614\u001b[0m \u001b[32m━━━━━━━━━━━━━━━━━━━━\u001b[0m\u001b[37m\u001b[0m \u001b[1m331s\u001b[0m 202ms/step - loss: 2.5033\n",
            "Epoch 2/20\n",
            "\u001b[1m1614/1614\u001b[0m \u001b[32m━━━━━━━━━━━━━━━━━━━━\u001b[0m\u001b[37m\u001b[0m \u001b[1m0s\u001b[0m 128ms/step - loss: 1.8259\n",
            " mean perplexity: 5.02090861294786 \n",
            "\n",
            "Saved new model: model_gru.keras\n",
            "\u001b[1m1614/1614\u001b[0m \u001b[32m━━━━━━━━━━━━━━━━━━━━\u001b[0m\u001b[37m\u001b[0m \u001b[1m324s\u001b[0m 201ms/step - loss: 1.8259\n",
            "Epoch 3/20\n",
            "\u001b[1m1614/1614\u001b[0m \u001b[32m━━━━━━━━━━━━━━━━━━━━\u001b[0m\u001b[37m\u001b[0m \u001b[1m0s\u001b[0m 129ms/step - loss: 1.7115\n",
            " mean perplexity: 4.732996954623499 \n",
            "\n",
            "Saved new model: model_gru.keras\n",
            "\u001b[1m1614/1614\u001b[0m \u001b[32m━━━━━━━━━━━━━━━━━━━━\u001b[0m\u001b[37m\u001b[0m \u001b[1m329s\u001b[0m 204ms/step - loss: 1.7115\n",
            "Epoch 4/20\n",
            "\u001b[1m1614/1614\u001b[0m \u001b[32m━━━━━━━━━━━━━━━━━━━━\u001b[0m\u001b[37m\u001b[0m \u001b[1m0s\u001b[0m 128ms/step - loss: 1.6615\n",
            " mean perplexity: 4.667749585836112 \n",
            "\n",
            "Saved new model: model_gru.keras\n",
            "\u001b[1m1614/1614\u001b[0m \u001b[32m━━━━━━━━━━━━━━━━━━━━\u001b[0m\u001b[37m\u001b[0m \u001b[1m324s\u001b[0m 201ms/step - loss: 1.6615\n",
            "Epoch 5/20\n",
            "\u001b[1m1614/1614\u001b[0m \u001b[32m━━━━━━━━━━━━━━━━━━━━\u001b[0m\u001b[37m\u001b[0m \u001b[1m0s\u001b[0m 128ms/step - loss: 1.6316\n",
            " mean perplexity: 4.615972640204875 \n",
            "\n",
            "Saved new model: model_gru.keras\n",
            "\u001b[1m1614/1614\u001b[0m \u001b[32m━━━━━━━━━━━━━━━━━━━━\u001b[0m\u001b[37m\u001b[0m \u001b[1m324s\u001b[0m 201ms/step - loss: 1.6316\n",
            "Epoch 6/20\n",
            "\u001b[1m1614/1614\u001b[0m \u001b[32m━━━━━━━━━━━━━━━━━━━━\u001b[0m\u001b[37m\u001b[0m \u001b[1m0s\u001b[0m 127ms/step - loss: 1.6119\n",
            " mean perplexity: 4.566666811039602 \n",
            "\n",
            "Saved new model: model_gru.keras\n",
            "\u001b[1m1614/1614\u001b[0m \u001b[32m━━━━━━━━━━━━━━━━━━━━\u001b[0m\u001b[37m\u001b[0m \u001b[1m323s\u001b[0m 200ms/step - loss: 1.6119\n",
            "Epoch 7/20\n",
            "\u001b[1m1614/1614\u001b[0m \u001b[32m━━━━━━━━━━━━━━━━━━━━\u001b[0m\u001b[37m\u001b[0m \u001b[1m0s\u001b[0m 127ms/step - loss: 1.5975\n",
            " mean perplexity: 4.540813805151707 \n",
            "\n",
            "Saved new model: model_gru.keras\n",
            "\u001b[1m1614/1614\u001b[0m \u001b[32m━━━━━━━━━━━━━━━━━━━━\u001b[0m\u001b[37m\u001b[0m \u001b[1m322s\u001b[0m 200ms/step - loss: 1.5975\n",
            "Epoch 8/20\n",
            "\u001b[1m1614/1614\u001b[0m \u001b[32m━━━━━━━━━━━━━━━━━━━━\u001b[0m\u001b[37m\u001b[0m \u001b[1m0s\u001b[0m 128ms/step - loss: 1.5864\n",
            " mean perplexity: 4.504897650678284 \n",
            "\n",
            "Saved new model: model_gru.keras\n",
            "\u001b[1m1614/1614\u001b[0m \u001b[32m━━━━━━━━━━━━━━━━━━━━\u001b[0m\u001b[37m\u001b[0m \u001b[1m324s\u001b[0m 201ms/step - loss: 1.5864\n",
            "Epoch 9/20\n",
            "\u001b[1m1614/1614\u001b[0m \u001b[32m━━━━━━━━━━━━━━━━━━━━\u001b[0m\u001b[37m\u001b[0m \u001b[1m0s\u001b[0m 128ms/step - loss: 1.5775\n",
            " mean perplexity: 4.491373123340832 \n",
            "\n",
            "Saved new model: model_gru.keras\n",
            "\u001b[1m1614/1614\u001b[0m \u001b[32m━━━━━━━━━━━━━━━━━━━━\u001b[0m\u001b[37m\u001b[0m \u001b[1m324s\u001b[0m 201ms/step - loss: 1.5775\n",
            "Epoch 10/20\n",
            "\u001b[1m1614/1614\u001b[0m \u001b[32m━━━━━━━━━━━━━━━━━━━━\u001b[0m\u001b[37m\u001b[0m \u001b[1m0s\u001b[0m 128ms/step - loss: 1.5700\n",
            " mean perplexity: 4.501568874223032 \n",
            "\n",
            "\u001b[1m1614/1614\u001b[0m \u001b[32m━━━━━━━━━━━━━━━━━━━━\u001b[0m\u001b[37m\u001b[0m \u001b[1m324s\u001b[0m 201ms/step - loss: 1.5700\n",
            "Epoch 11/20\n",
            "\u001b[1m1614/1614\u001b[0m \u001b[32m━━━━━━━━━━━━━━━━━━━━\u001b[0m\u001b[37m\u001b[0m \u001b[1m0s\u001b[0m 128ms/step - loss: 1.5635\n",
            " mean perplexity: 4.467216010866189 \n",
            "\n",
            "Saved new model: model_gru.keras\n",
            "\u001b[1m1614/1614\u001b[0m \u001b[32m━━━━━━━━━━━━━━━━━━━━\u001b[0m\u001b[37m\u001b[0m \u001b[1m324s\u001b[0m 201ms/step - loss: 1.5635\n",
            "Epoch 12/20\n",
            "\u001b[1m1614/1614\u001b[0m \u001b[32m━━━━━━━━━━━━━━━━━━━━\u001b[0m\u001b[37m\u001b[0m \u001b[1m0s\u001b[0m 129ms/step - loss: 1.5584\n",
            " mean perplexity: 4.456233827365841 \n",
            "\n",
            "Saved new model: model_gru.keras\n",
            "\u001b[1m1614/1614\u001b[0m \u001b[32m━━━━━━━━━━━━━━━━━━━━\u001b[0m\u001b[37m\u001b[0m \u001b[1m326s\u001b[0m 202ms/step - loss: 1.5584\n",
            "Epoch 13/20\n",
            "\u001b[1m1614/1614\u001b[0m \u001b[32m━━━━━━━━━━━━━━━━━━━━\u001b[0m\u001b[37m\u001b[0m \u001b[1m0s\u001b[0m 127ms/step - loss: 1.5539\n",
            " mean perplexity: 4.464516044112273 \n",
            "\n",
            "\u001b[1m1614/1614\u001b[0m \u001b[32m━━━━━━━━━━━━━━━━━━━━\u001b[0m\u001b[37m\u001b[0m \u001b[1m323s\u001b[0m 200ms/step - loss: 1.5539\n",
            "Epoch 14/20\n",
            "\u001b[1m1614/1614\u001b[0m \u001b[32m━━━━━━━━━━━━━━━━━━━━\u001b[0m\u001b[37m\u001b[0m \u001b[1m0s\u001b[0m 127ms/step - loss: 1.5485\n",
            " mean perplexity: 4.430919849087345 \n",
            "\n",
            "Saved new model: model_gru.keras\n",
            "\u001b[1m1614/1614\u001b[0m \u001b[32m━━━━━━━━━━━━━━━━━━━━\u001b[0m\u001b[37m\u001b[0m \u001b[1m323s\u001b[0m 200ms/step - loss: 1.5485\n",
            "Epoch 15/20\n",
            "\u001b[1m1614/1614\u001b[0m \u001b[32m━━━━━━━━━━━━━━━━━━━━\u001b[0m\u001b[37m\u001b[0m \u001b[1m0s\u001b[0m 127ms/step - loss: 1.5451\n",
            " mean perplexity: 4.427868073862697 \n",
            "\n",
            "Saved new model: model_gru.keras\n",
            "\u001b[1m1614/1614\u001b[0m \u001b[32m━━━━━━━━━━━━━━━━━━━━\u001b[0m\u001b[37m\u001b[0m \u001b[1m322s\u001b[0m 200ms/step - loss: 1.5451\n",
            "Epoch 16/20\n",
            "\u001b[1m1614/1614\u001b[0m \u001b[32m━━━━━━━━━━━━━━━━━━━━\u001b[0m\u001b[37m\u001b[0m \u001b[1m0s\u001b[0m 126ms/step - loss: 1.5408\n",
            " mean perplexity: 4.405871361879045 \n",
            "\n",
            "Saved new model: model_gru.keras\n",
            "\u001b[1m1614/1614\u001b[0m \u001b[32m━━━━━━━━━━━━━━━━━━━━\u001b[0m\u001b[37m\u001b[0m \u001b[1m320s\u001b[0m 198ms/step - loss: 1.5408\n",
            "Epoch 17/20\n",
            "\u001b[1m1614/1614\u001b[0m \u001b[32m━━━━━━━━━━━━━━━━━━━━\u001b[0m\u001b[37m\u001b[0m \u001b[1m0s\u001b[0m 126ms/step - loss: 1.5372\n",
            " mean perplexity: 4.444201291682439 \n",
            "\n",
            "\u001b[1m1614/1614\u001b[0m \u001b[32m━━━━━━━━━━━━━━━━━━━━\u001b[0m\u001b[37m\u001b[0m \u001b[1m319s\u001b[0m 198ms/step - loss: 1.5372\n",
            "Epoch 18/20\n",
            "\u001b[1m1614/1614\u001b[0m \u001b[32m━━━━━━━━━━━━━━━━━━━━\u001b[0m\u001b[37m\u001b[0m \u001b[1m0s\u001b[0m 122ms/step - loss: 1.5357\n",
            " mean perplexity: 4.416455309932965 \n",
            "\n",
            "\u001b[1m1614/1614\u001b[0m \u001b[32m━━━━━━━━━━━━━━━━━━━━\u001b[0m\u001b[37m\u001b[0m \u001b[1m310s\u001b[0m 192ms/step - loss: 1.5357\n",
            "Epoch 19/20\n",
            "\u001b[1m1614/1614\u001b[0m \u001b[32m━━━━━━━━━━━━━━━━━━━━\u001b[0m\u001b[37m\u001b[0m \u001b[1m0s\u001b[0m 119ms/step - loss: 1.5319\n",
            " mean perplexity: 4.433608743265987 \n",
            "\n",
            "\u001b[1m1614/1614\u001b[0m \u001b[32m━━━━━━━━━━━━━━━━━━━━\u001b[0m\u001b[37m\u001b[0m \u001b[1m306s\u001b[0m 190ms/step - loss: 1.5319\n",
            "Epoch 20/20\n",
            "\u001b[1m1614/1614\u001b[0m \u001b[32m━━━━━━━━━━━━━━━━━━━━\u001b[0m\u001b[37m\u001b[0m \u001b[1m0s\u001b[0m 125ms/step - loss: 1.5268\n",
            " mean perplexity: 4.405344627800549 \n",
            "\n",
            "Saved new model: model_gru.keras\n",
            "\u001b[1m1614/1614\u001b[0m \u001b[32m━━━━━━━━━━━━━━━━━━━━\u001b[0m\u001b[37m\u001b[0m \u001b[1m315s\u001b[0m 195ms/step - loss: 1.5268\n"
          ]
        }
      ],
      "source": [
        "history_ppl_GRU = []\n",
        "hist_gru = model_gru.fit(X, y, epochs=20, callbacks=[PplCallback(tokenized_sentences_val,history_ppl_GRU, model_name='model_gru')], batch_size=256)"
      ]
    },
    {
      "cell_type": "code",
      "execution_count": null,
      "metadata": {
        "colab": {
          "base_uri": "https://localhost:8080/",
          "height": 564
        },
        "id": "zlJVS4ux5ec0",
        "outputId": "7f41ffe0-a8e4-4374-9e5e-d8ce980d63ff"
      },
      "outputs": [
        {
          "data": {
            "image/png": "[encoded data removed]",
            "text/plain": [
              "<Figure size 1000x600 with 1 Axes>"
            ]
          },
          "metadata": {},
          "output_type": "display_data"
        }
      ],
      "source": [
        "import numpy as np\n",
        "import matplotlib.pyplot as plt\n",
        "import seaborn as sns\n",
        "\n",
        "# Obtener la longitud máxima entre los tres history_ppl\n",
        "max_epochs = max(len(history_ppl), len(history_ppl_lstm), len(history_ppl_GRU))\n",
        "\n",
        "# Rellenar con NaN para igualar las longitudes\n",
        "history_ppl_vector = np.pad(history_ppl, (0, max_epochs - len(history_ppl)), 'constant', constant_values=np.nan)\n",
        "history_ppl_lstm_vector = np.pad(history_ppl_lstm, (0, max_epochs - len(history_ppl_lstm)), 'constant', constant_values=np.nan)\n",
        "history_ppl_gru_vector = np.pad(history_ppl_GRU, (0, max_epochs - len(history_ppl_GRU)), 'constant', constant_values=np.nan)\n",
        "\n",
        "epoch_count = range(1, max_epochs + 1)\n",
        "\n",
        "# Graficar con todas las épocas, usando NaN para los valores faltantes\n",
        "plt.figure(figsize=(10, 6))\n",
        "sns.lineplot(x=epoch_count, y=history_ppl_vector, label=\"SimpleRNN\")\n",
        "sns.lineplot(x=epoch_count, y=history_ppl_lstm_vector, label=\"LSTM\")\n",
        "sns.lineplot(x=epoch_count, y=history_ppl_gru_vector, label=\"GRU\")\n",
        "\n",
        "# Etiquetas y título\n",
        "plt.xlabel('Epoch')\n",
        "plt.ylabel('Perplexity')\n",
        "plt.title('Evolution of Perplexity - Comparison of Models')\n",
        "\n",
        "# Mostrar leyenda\n",
        "plt.legend()\n",
        "\n",
        "# Mostrar el gráfico\n",
        "plt.show()"
      ]
    },
    {
      "cell_type": "markdown",
      "metadata": {
        "id": "-bYZOJFEEATr"
      },
      "source": [
        "El gráfico muestra que el modelo SimpleRNN alcanzó la menor perplejidad al final del entrenamiento, superando a LSTM y GRU en este aspecto. Sin embargo, es importante notar las diferencias en las trayectorias de aprendizaje de los tres modelos.\n",
        "\n",
        "- LSTM comenzó con la perplejidad más alta pero mostró la mejora más dramática en las primeras épocas, lo que sugiere un potencial significativo para el aprendizaje. Aunque terminó con la perplejidad más alta entre los tres modelos, su curva de aprendizaje indica que podría beneficiarse de un entrenamiento más prolongado o de un ajuste de hiperparámetros.\n",
        "\n",
        "- GRU mostró un rendimiento intermedio, acercándose mucho al SimpleRNN en las últimas épocas. Su curva de aprendizaje más suave sugiere una mayor estabilidad durante el entrenamiento, lo que podría ser una ventaja en ciertos escenarios.\n",
        "\n",
        "- Tanto LSTM como GRU se implementaron con menos unidades recurrentes (100) en comparación con SimpleRNN (200), dado el coste computacional que representaba. Esto implica que el potencial completo de LSTM y GRU podría no haberse alcanzado\n",
        "\n",
        "- En cuanto a la eficiencia computacional, SimpleRNN demostró ser el más rápido en entrenamiento, lo cual es esperado dada su arquitectura más simple. LSTM y GRU, siendo modelos más complejos, requirieron más tiempo de entrenamiento.\n"
      ]
    },
    {
      "cell_type": "markdown",
      "metadata": {
        "id": "KN6Fg_BsxJe6"
      },
      "source": [
        "\n",
        "### Predicción del próximo caracter"
      ]
    },
    {
      "cell_type": "code",
      "execution_count": 77,
      "metadata": {
        "id": "DA25KF6uGK8d"
      },
      "outputs": [],
      "source": [
        "# Procedo a cargar todos los modelos guardados\n",
        "# Esto puede variar entre drive y el github local\n",
        "\n",
        "model_simpleRNN = keras.models.load_model('drive/MyDrive/Colab Notebooks/desafio_3/model_simpleRNN.keras')\n",
        "model_LSTM = keras.models.load_model('drive/MyDrive/Colab Notebooks/desafio_3/model_lstm.keras')\n",
        "model_GRU = keras.models.load_model('drive/MyDrive/Colab Notebooks/desafio_3/model_gru.keras')\n"
      ]
    },
    {
      "cell_type": "code",
      "execution_count": 40,
      "metadata": {
        "colab": {
          "base_uri": "https://localhost:8080/"
        },
        "id": "IBvKHFPmzpy2",
        "outputId": "1e6b2507-effd-490a-ad25-4bdb268fb051"
      },
      "outputs": [
        {
          "name": "stdout",
          "output_type": "stream",
          "text": [
            "\u001b[2K     \u001b[90m━━━━━━━━━━━━━━━━━━━━━━━━━━━━━━━━━━━━━━━━\u001b[0m \u001b[32m50.4/50.4 kB\u001b[0m \u001b[31m4.3 MB/s\u001b[0m eta \u001b[36m0:00:00\u001b[0m\n",
            "\u001b[2K   \u001b[90m━━━━━━━━━━━━━━━━━━━━━━━━━━━━━━━━━━━━━━━━\u001b[0m \u001b[32m18.1/18.1 MB\u001b[0m \u001b[31m103.6 MB/s\u001b[0m eta \u001b[36m0:00:00\u001b[0m\n",
            "\u001b[2K   \u001b[90m━━━━━━━━━━━━━━━━━━━━━━━━━━━━━━━━━━━━━━━━\u001b[0m \u001b[32m318.7/318.7 kB\u001b[0m \u001b[31m28.2 MB/s\u001b[0m eta \u001b[36m0:00:00\u001b[0m\n",
            "\u001b[2K   \u001b[90m━━━━━━━━━━━━━━━━━━━━━━━━━━━━━━━━━━━━━━━━\u001b[0m \u001b[32m94.6/94.6 kB\u001b[0m \u001b[31m9.2 MB/s\u001b[0m eta \u001b[36m0:00:00\u001b[0m\n",
            "\u001b[2K   \u001b[90m━━━━━━━━━━━━━━━━━━━━━━━━━━━━━━━━━━━━━━━━\u001b[0m \u001b[32m76.4/76.4 kB\u001b[0m \u001b[31m6.4 MB/s\u001b[0m eta \u001b[36m0:00:00\u001b[0m\n",
            "\u001b[2K   \u001b[90m━━━━━━━━━━━━━━━━━━━━━━━━━━━━━━━━━━━━━━━━\u001b[0m \u001b[32m77.9/77.9 kB\u001b[0m \u001b[31m7.7 MB/s\u001b[0m eta \u001b[36m0:00:00\u001b[0m\n",
            "\u001b[2K   \u001b[90m━━━━━━━━━━━━━━━━━━━━━━━━━━━━━━━━━━━━━━━━\u001b[0m \u001b[32m141.9/141.9 kB\u001b[0m \u001b[31m13.8 MB/s\u001b[0m eta \u001b[36m0:00:00\u001b[0m\n",
            "\u001b[2K   \u001b[90m━━━━━━━━━━━━━━━━━━━━━━━━━━━━━━━━━━━━━━━━\u001b[0m \u001b[32m10.8/10.8 MB\u001b[0m \u001b[31m121.8 MB/s\u001b[0m eta \u001b[36m0:00:00\u001b[0m\n",
            "\u001b[2K   \u001b[90m━━━━━━━━━━━━━━━━━━━━━━━━━━━━━━━━━━━━━━━━\u001b[0m \u001b[32m62.8/62.8 kB\u001b[0m \u001b[31m6.2 MB/s\u001b[0m eta \u001b[36m0:00:00\u001b[0m\n",
            "\u001b[2K   \u001b[90m━━━━━━━━━━━━━━━━━━━━━━━━━━━━━━━━━━━━━━━━\u001b[0m \u001b[32m58.3/58.3 kB\u001b[0m \u001b[31m5.8 MB/s\u001b[0m eta \u001b[36m0:00:00\u001b[0m\n",
            "\u001b[2K   \u001b[90m━━━━━━━━━━━━━━━━━━━━━━━━━━━━━━━━━━━━━━━━\u001b[0m \u001b[32m71.5/71.5 kB\u001b[0m \u001b[31m7.0 MB/s\u001b[0m eta \u001b[36m0:00:00\u001b[0m\n",
            "\u001b[2K   \u001b[90m━━━━━━━━━━━━━━━━━━━━━━━━━━━━━━━━━━━━━━━━\u001b[0m \u001b[32m130.2/130.2 kB\u001b[0m \u001b[31m11.9 MB/s\u001b[0m eta \u001b[36m0:00:00\u001b[0m\n",
            "\u001b[?25h"
          ]
        }
      ],
      "source": [
        "# Se puede usar gradio para probar el modelo\n",
        "# Gradio es una herramienta muy útil para crear interfaces para ensayar modelos\n",
        "# https://gradio.app/\n",
        "\n",
        "!pip install -q gradio"
      ]
    },
    {
      "cell_type": "code",
      "execution_count": 44,
      "metadata": {
        "colab": {
          "base_uri": "https://localhost:8080/",
          "height": 660
        },
        "id": "HNyBykvhzs7-",
        "outputId": "9037fcf7-3f65-4755-bdd4-d3a0fc833baa"
      },
      "outputs": [
        {
          "name": "stdout",
          "output_type": "stream",
          "text": [
            "Setting queue=True in a Colab notebook requires sharing enabled. Setting `share=True` (you can turn this off by setting `share=False` in `launch()` explicitly).\n",
            "\n",
            "Colab notebook detected. This cell will run indefinitely so that you can see errors and logs. To turn off, set debug=False in launch().\n",
            "Running on public URL: https://a15bd48b7439d0b4c7.gradio.live\n",
            "\n",
            "This share link expires in 72 hours. For free permanent hosting and GPU upgrades, run `gradio deploy` from Terminal to deploy to Spaces (https://huggingface.co/spaces)\n"
          ]
        },
        {
          "data": {
            "text/html": [
              "<div><iframe src=\"https://a15bd48b7439d0b4c7.gradio.live\" width=\"100%\" height=\"500\" allow=\"autoplay; camera; microphone; clipboard-read; clipboard-write;\" frameborder=\"0\" allowfullscreen></iframe></div>"
            ],
            "text/plain": [
              "<IPython.core.display.HTML object>"
            ]
          },
          "metadata": {},
          "output_type": "display_data"
        },
        {
          "name": "stdout",
          "output_type": "stream",
          "text": [
            "Keyboard interruption in main thread... closing server.\n",
            "Killing tunnel 127.0.0.1:7860 <> https://a15bd48b7439d0b4c7.gradio.live\n"
          ]
        },
        {
          "data": {
            "text/plain": []
          },
          "execution_count": 44,
          "metadata": {},
          "output_type": "execute_result"
        }
      ],
      "source": [
        "import gradio as gr\n",
        "\n",
        "def model_response(human_text, model=model_simpleRNN):\n",
        "\n",
        "    # Encodeamos\n",
        "    encoded = [char2idx[ch] for ch in human_text.lower() ]\n",
        "    # Si tienen distinto largo\n",
        "    encoded = pad_sequences([encoded], maxlen=max_context_size, padding='pre')\n",
        "\n",
        "    # Predicción softmax\n",
        "    y_hat = np.argmax(model.predict(encoded)[0,-1,:])\n",
        "\n",
        "\n",
        "    # Debemos buscar en el vocabulario el caracter\n",
        "    # que corresopnde al indice (y_hat) predicho por le modelo\n",
        "    out_word = ''\n",
        "    out_word = idx2char[y_hat]\n",
        "\n",
        "    # Agrego la palabra a la frase predicha\n",
        "    return human_text + out_word\n",
        "\n",
        "iface = gr.Interface(\n",
        "    fn=model_response,\n",
        "    inputs=[\"textbox\"],\n",
        "    outputs=\"text\")\n",
        "\n",
        "iface.launch(debug=True)"
      ]
    },
    {
      "cell_type": "markdown",
      "metadata": {
        "id": "QeCSnXnMIQxh"
      },
      "source": [
        "A continuación voy a poner una ejecución por medio de la salida de la funcion \"model response\" de forma de dejar acentado el valor de la predicción.\n",
        "\n",
        "Para ello dejo 3 casos donde:\n",
        "\n",
        "1. Probamos \"albu\" en referencia a Albus Dumbledore, y vemos que podria no ser trivial la respuesta siendo por ejemplo \"album\"\n",
        "2. Una frase que finaliza en \"qui\" siendo que se busca la palabra \"quidditch\" en referencia al popular deporte\n",
        "3. La misma frase que el item anterior, pero siendo \"quid\""
      ]
    },
    {
      "cell_type": "code",
      "execution_count": 45,
      "metadata": {
        "colab": {
          "base_uri": "https://localhost:8080/"
        },
        "id": "qhri129ZIfj6",
        "outputId": "7e0c6f1c-c4b9-4950-8932-184faca20886"
      },
      "outputs": [
        {
          "name": "stdout",
          "output_type": "stream",
          "text": [
            "\u001b[1m1/1\u001b[0m \u001b[32m━━━━━━━━━━━━━━━━━━━━\u001b[0m\u001b[37m\u001b[0m \u001b[1m2s\u001b[0m 2s/step\n",
            "Modelo SimpleRNN: albut\n",
            "\u001b[1m1/1\u001b[0m \u001b[32m━━━━━━━━━━━━━━━━━━━━\u001b[0m\u001b[37m\u001b[0m \u001b[1m0s\u001b[0m 16ms/step\n",
            "Modelo LSTM: albus\n",
            "\u001b[1m1/1\u001b[0m \u001b[32m━━━━━━━━━━━━━━━━━━━━\u001b[0m\u001b[37m\u001b[0m \u001b[1m1s\u001b[0m 1s/step\n",
            "Modelo GRU: albus\n"
          ]
        }
      ],
      "source": [
        "# Prueba del modelo:\n",
        "\n",
        "test_string = \"albu\"\n",
        "print(f'Modelo SimpleRNN: { model_response(test_string, model_LSTM) }')\n",
        "print(f'Modelo LSTM: {model_response(test_string, model_simpleRNN)}')\n",
        "print(f'Modelo GRU: {model_response(test_string, model_GRU)}')\n",
        "\n"
      ]
    },
    {
      "cell_type": "code",
      "execution_count": 47,
      "metadata": {
        "colab": {
          "base_uri": "https://localhost:8080/"
        },
        "id": "fSsKb-HYKw_c",
        "outputId": "4ad5b67b-dec3-4003-ea28-03e136a38528"
      },
      "outputs": [
        {
          "name": "stdout",
          "output_type": "stream",
          "text": [
            "PALABRA CON MAS CONTEXTO\n",
            "\u001b[1m1/1\u001b[0m \u001b[32m━━━━━━━━━━━━━━━━━━━━\u001b[0m\u001b[37m\u001b[0m \u001b[1m0s\u001b[0m 64ms/step\n",
            "Modelo SimpleRNN: Harry's broomstick was the best in the quir\n",
            "\u001b[1m1/1\u001b[0m \u001b[32m━━━━━━━━━━━━━━━━━━━━\u001b[0m\u001b[37m\u001b[0m \u001b[1m0s\u001b[0m 24ms/step\n",
            "Modelo LSTM: Harry's broomstick was the best in the quid\n",
            "\u001b[1m1/1\u001b[0m \u001b[32m━━━━━━━━━━━━━━━━━━━━\u001b[0m\u001b[37m\u001b[0m \u001b[1m0s\u001b[0m 77ms/step\n",
            "Modelo GRU: Harry's broomstick was the best in the quid\n"
          ]
        }
      ],
      "source": [
        "test_string_2 = \"Harry's broomstick was the best in the qui\"\n",
        "print(\"PALABRA CON MAS CONTEXTO\")\n",
        "print(f'Modelo SimpleRNN: { model_response(test_string_2, model_LSTM) }')\n",
        "print(f'Modelo LSTM: {model_response(test_string_2, model_simpleRNN)}')\n",
        "print(f'Modelo GRU: {model_response(test_string_2, model_GRU)}')"
      ]
    },
    {
      "cell_type": "code",
      "execution_count": 48,
      "metadata": {
        "colab": {
          "base_uri": "https://localhost:8080/"
        },
        "id": "1KnMQKV8LVK1",
        "outputId": "b084abc5-cf46-44e8-9d1a-88e141013eae"
      },
      "outputs": [
        {
          "name": "stdout",
          "output_type": "stream",
          "text": [
            "PALABRA CON MAS CONTEXTO\n",
            "\u001b[1m1/1\u001b[0m \u001b[32m━━━━━━━━━━━━━━━━━━━━\u001b[0m\u001b[37m\u001b[0m \u001b[1m0s\u001b[0m 36ms/step\n",
            "Modelo SimpleRNN: Harry's broomstick was the best in the quidd\n",
            "\u001b[1m1/1\u001b[0m \u001b[32m━━━━━━━━━━━━━━━━━━━━\u001b[0m\u001b[37m\u001b[0m \u001b[1m0s\u001b[0m 16ms/step\n",
            "Modelo LSTM: Harry's broomstick was the best in the quidd\n",
            "\u001b[1m1/1\u001b[0m \u001b[32m━━━━━━━━━━━━━━━━━━━━\u001b[0m\u001b[37m\u001b[0m \u001b[1m0s\u001b[0m 49ms/step\n",
            "Modelo GRU: Harry's broomstick was the best in the quidd\n"
          ]
        }
      ],
      "source": [
        "test_string_2 = \"Harry's broomstick was the best in the quid\"\n",
        "print(\"PALABRA CON MAS CONTEXTO\")\n",
        "print(f'Modelo SimpleRNN: { model_response(test_string_2, model_LSTM) }')\n",
        "print(f'Modelo LSTM: {model_response(test_string_2, model_simpleRNN)}')\n",
        "print(f'Modelo GRU: {model_response(test_string_2, model_GRU)}')"
      ]
    },
    {
      "cell_type": "markdown",
      "metadata": {
        "id": "E0V9u3Q-MGbB"
      },
      "source": [
        "En esta prueba evaluamos los 3 modelos (SimpleRNN, LSTM y GRU) utilizando diferentes frases incompletas para observar cómo completan las palabras según el contexto.\n",
        "\n",
        "Prueba con \"albu\"\n",
        "\n",
        "- El Modelo SimpleRNN completó incorrectamente la palabra como \"albut\", lo cual es una predicción fallida.\n",
        "- Tanto el Modelo LSTM como el Modelo GRU lograron completar correctamente la palabra como \"albus\", lo que refleja una mejor capacidad para capturar el contexto en esta prueba.\n",
        "\n",
        "Pruebas con **Harry's broomstick was the best in the qui**:\n",
        "\n",
        "- El Modelo SimpleRNN generó \"quir\", lo cual es incorrecto al contexto aplicado y los demas logrron completar correctamente con \"quid\" que era esperado\n",
        "\n",
        "Prueba con **Harry's broomstick was the best in the quid**:\n",
        "\n",
        "- Todos los modelos (SimpleRNN, LSTM, GRU) predijeron correctamente la continuación \"quidd\"\n",
        "\n",
        "\n",
        "El SimpleRNN mostró dificultades para completar correctamente las palabras en las pruebas, lo cual es coherente con sus limitaciones para capturar dependencias a largo plazo.\n",
        "Tanto el LSTM como el GRU completaron de manera más precisa en ambas pruebas, mostrando su capacidad para manejar mejor el contexto en la generación de texto."
      ]
    },
    {
      "cell_type": "markdown",
      "metadata": {
        "id": "mCeMWWupxN1-"
      },
      "source": [
        "### Generación de secuencias"
      ]
    },
    {
      "cell_type": "code",
      "execution_count": 49,
      "metadata": {
        "id": "bwbS_pfhxvB3"
      },
      "outputs": [],
      "source": [
        "def generate_seq(model, seed_text, max_length, n_words):\n",
        "    \"\"\"\n",
        "        Exec model sequence prediction\n",
        "\n",
        "        Args:\n",
        "            model (keras): modelo entrenado\n",
        "            seed_text (string): texto de entrada (input_seq)\n",
        "            max_length (int): máxima longitud de la sequencia de entrada\n",
        "            n_words (int): números de caracteres a agregar a la sequencia de entrada\n",
        "        returns:\n",
        "            output_text (string): sentencia con las \"n_words\" agregadas\n",
        "    \"\"\"\n",
        "    output_text = seed_text\n",
        "\t# generate a fixed number of words\n",
        "    for _ in range(n_words):\n",
        "\t\t# Encodeamos\n",
        "        encoded = [char2idx[ch] for ch in output_text.lower() ]\n",
        "\t\t# Si tienen distinto largo\n",
        "        encoded = pad_sequences([encoded], maxlen=max_length, padding='pre')\n",
        "\n",
        "\t\t# Predicción softmax\n",
        "        y_hat = np.argmax(model.predict(encoded,verbose=0)[0,-1,:])\n",
        "\t\t# Vamos concatenando las predicciones\n",
        "        out_word = ''\n",
        "\n",
        "        out_word = idx2char[y_hat]\n",
        "\n",
        "\t\t# Agrego las palabras a la frase predicha\n",
        "        output_text += out_word\n",
        "    return output_text"
      ]
    },
    {
      "cell_type": "code",
      "execution_count": 52,
      "metadata": {
        "colab": {
          "base_uri": "https://localhost:8080/"
        },
        "id": "JoFqRC5pxzqS",
        "outputId": "96664bc4-690f-4209-bdb0-fa69fae26ac7"
      },
      "outputs": [
        {
          "name": "stdout",
          "output_type": "stream",
          "text": [
            "GENERACIÓN DE SECUENCIAS\n",
            "Modelo SimpleRNN:\n",
            "Harry, Ron and Hermione were in the dursleys were the stone -\n",
            "Modelo LSTM:\n",
            "Harry, Ron and Hermione were in the started the starts and th\n",
            "Modelo GRU:\n",
            "Harry, Ron and Hermione were in the stone of the stone of the\n"
          ]
        }
      ],
      "source": [
        "input_text='Harry, Ron and Hermione were in'\n",
        "\n",
        "print(\"GENERACIÓN DE SECUENCIAS\")\n",
        "print('Modelo SimpleRNN:')\n",
        "print(generate_seq(model_simpleRNN, input_text, max_length=max_context_size, n_words=30))\n",
        "\n",
        "print('Modelo LSTM:')\n",
        "print(generate_seq(model_LSTM, input_text, max_length=max_context_size, n_words=30))\n",
        "\n",
        "print('Modelo GRU:')\n",
        "print(generate_seq(model_GRU, input_text, max_length=max_context_size, n_words=30))"
      ]
    },
    {
      "cell_type": "markdown",
      "metadata": {
        "id": "yMdK8bovOy4b"
      },
      "source": [
        "En las pruebas de generación de secuencias con el texto inicial \"Harry, Ron and Hermione were in\":\n",
        "\n",
        "- Modelo SimpleRNN: Produjo una salida confusa y menos coherente: \"the dursleys were the stone -\".\n",
        "- Modelo LSTM: Generó una secuencia más coherente que el SimpleRNN, pero con fragmentos poco lógicos: \"the started the starts and th\".\n",
        "- Modelo GRU: tiene la salida más relevante y fluida: \"the stone of the stone of the\", mostrando una mejor comprensión del contexto."
      ]
    },
    {
      "cell_type": "markdown",
      "metadata": {
        "id": "drJ6xn5qW1Hl"
      },
      "source": [
        "###  Beam search y muestreo aleatorio"
      ]
    },
    {
      "cell_type": "code",
      "execution_count": 53,
      "metadata": {
        "id": "_vovn9XZW1Hl"
      },
      "outputs": [],
      "source": [
        "# funcionalidades para hacer encoding y decoding\n",
        "\n",
        "def encode(text,max_length=max_context_size):\n",
        "\n",
        "    encoded = [char2idx[ch] for ch in text]\n",
        "    encoded = pad_sequences([encoded], maxlen=max_length, padding='pre')\n",
        "\n",
        "    return encoded\n",
        "\n",
        "def decode(seq):\n",
        "    return ''.join([idx2char[ch] for ch in seq])"
      ]
    },
    {
      "cell_type": "code",
      "execution_count": 54,
      "metadata": {
        "id": "I_lZiQwkW1Hl"
      },
      "outputs": [],
      "source": [
        "from scipy.special import softmax\n",
        "\n",
        "# función que selecciona candidatos para el beam search\n",
        "def select_candidates(pred,num_beams,vocab_size,history_probs,history_tokens,temp,mode):\n",
        "\n",
        "  # colectar todas las probabilidades para la siguiente búsqueda\n",
        "  pred_large = []\n",
        "\n",
        "  for idx,pp in enumerate(pred):\n",
        "    pred_large.extend(np.log(pp+1E-10)+history_probs[idx])\n",
        "\n",
        "  pred_large = np.array(pred_large)\n",
        "\n",
        "  # criterio de selección\n",
        "  if mode == 'det':\n",
        "    idx_select = np.argsort(pred_large)[::-1][:num_beams] # beam search determinista\n",
        "  elif mode == 'sto':\n",
        "    idx_select = np.random.choice(np.arange(pred_large.shape[0]), num_beams, p=softmax(pred_large/temp)) # beam search con muestreo aleatorio\n",
        "  else:\n",
        "    raise ValueError(f'Wrong selection mode. {mode} was given. det and sto are supported.')\n",
        "\n",
        "  # traducir a índices de token en el vocabulario\n",
        "  new_history_tokens = np.concatenate((np.array(history_tokens)[idx_select//vocab_size],\n",
        "                        np.array([idx_select%vocab_size]).T),\n",
        "                      axis=1)\n",
        "\n",
        "  # devolver el producto de las probabilidades (log) y la secuencia de tokens seleccionados\n",
        "  return pred_large[idx_select.astype(int)], new_history_tokens.astype(int)\n",
        "\n",
        "\n",
        "def beam_search(model,num_beams,num_words,input,temp=1,mode='det'):\n",
        "\n",
        "    # first iteration\n",
        "\n",
        "    # encode\n",
        "    encoded = encode(input)\n",
        "\n",
        "    # first prediction\n",
        "    y_hat = model.predict(encoded,verbose=0)[0,-1,:]\n",
        "\n",
        "    # get vocabulary size\n",
        "    vocab_size = y_hat.shape[0]\n",
        "\n",
        "    # initialize history\n",
        "    history_probs = [0]*num_beams\n",
        "    history_tokens = [encoded[0]]*num_beams\n",
        "\n",
        "    # select num_beams candidates\n",
        "    history_probs, history_tokens = select_candidates([y_hat],\n",
        "                                        num_beams,\n",
        "                                        vocab_size,\n",
        "                                        history_probs,\n",
        "                                        history_tokens,\n",
        "                                        temp,\n",
        "                                        mode)\n",
        "\n",
        "    # beam search loop\n",
        "    for i in range(num_words-1):\n",
        "\n",
        "      preds = []\n",
        "\n",
        "      for hist in history_tokens:\n",
        "\n",
        "        # actualizar secuencia de tokens\n",
        "        input_update = np.array([hist[i+1:]]).copy()\n",
        "\n",
        "        # predicción\n",
        "        y_hat = model.predict(input_update,verbose=0)[0,-1,:]\n",
        "\n",
        "        preds.append(y_hat)\n",
        "\n",
        "      history_probs, history_tokens = select_candidates(preds,\n",
        "                                                        num_beams,\n",
        "                                                        vocab_size,\n",
        "                                                        history_probs,\n",
        "                                                        history_tokens,\n",
        "                                                        temp,\n",
        "                                                        mode)\n",
        "\n",
        "    return history_tokens[:,-(len(input)+num_words):]"
      ]
    },
    {
      "cell_type": "code",
      "execution_count": 81,
      "metadata": {
        "colab": {
          "base_uri": "https://localhost:8080/"
        },
        "id": "3FiG6SnbPJ4u",
        "outputId": "a6f3b235-a1e0-44f5-8bcd-3a7b19fce0a0"
      },
      "outputs": [
        {
          "name": "stdout",
          "output_type": "stream",
          "text": [
            "Modelo SimpleRNN: harry, ron and hermione were in the dursleys of the\n",
            "Modelo LSTM: harry, ron and hermione were in the couldn’t harry \n",
            "Modelo GRU: harry, ron and hermione were in the dursleys of the\n"
          ]
        }
      ],
      "source": [
        "# predicción con beam search en modo determinista\n",
        "string_to_search = \"harry, ron and hermione were in\"\n",
        "print(f\"Modelo SimpleRNN: {decode(beam_search(model_simpleRNN,num_beams=10,num_words=20,input=string_to_search,temp=1,mode='det')[0])}\")\n",
        "print(f'Modelo LSTM: {decode(beam_search(model_LSTM,num_beams=10,num_words=20,input=string_to_search,temp=1,mode=\"det\")[0])}')\n",
        "print(f'Modelo GRU: {decode(beam_search(model_GRU,num_beams=10,num_words=20,input=string_to_search,temp=1,mode=\"det\")[0])}')\n"
      ]
    },
    {
      "cell_type": "code",
      "execution_count": 80,
      "metadata": {
        "colab": {
          "base_uri": "https://localhost:8080/"
        },
        "id": "cuMRkbfmSjpW",
        "outputId": "349b804b-7c41-440c-abd9-8da04a68b712"
      },
      "outputs": [
        {
          "name": "stdout",
          "output_type": "stream",
          "text": [
            "Modelo SimpleRNN, temp=5: harry, ron and hermione were in feet you segie cra’\n",
            "Modelo LSTM, temp=5: harry, ron and hermione were ingrawl — shocring oti\n",
            "Modelo GRU, temp=5: harry, ron and hermione were intrid whas mugh wavch\n"
          ]
        }
      ],
      "source": [
        "# predicción con beam search en modo est\n",
        "string_to_search = \"harry, ron and hermione were in\"\n",
        "print(f\"Modelo SimpleRNN, temp=5: {decode(beam_search(model_simpleRNN,num_beams=10,num_words=20,input=string_to_search,temp=5,mode='sto')[0])}\")\n",
        "print(f'Modelo LSTM, temp=5: {decode(beam_search(model_LSTM,num_beams=10,num_words=20,input=string_to_search,temp=5,mode=\"sto\")[0])}')\n",
        "print(f'Modelo GRU, temp=5: {decode(beam_search(model_GRU,num_beams=10,num_words=20,input=string_to_search,temp=5,mode=\"sto\")[0])}')\n"
      ]
    },
    {
      "cell_type": "markdown",
      "metadata": {
        "id": "LCOKF5lNToCP"
      },
      "source": [
        "Podemos ver como para el modo determinsta, las salidas son coherentes y similares en cuanto a la generacion de texto y espacios de las oraciones.\n",
        "\n",
        "En el modelo con modo estocastico, una temperatura mayo comenzo a generar freses poco legibles o realistas perdiendo el sentido y coherencia.\n",
        "\n"
      ]
    },
    {
      "cell_type": "markdown",
      "metadata": {
        "id": "e39PtuG8Uksa"
      },
      "source": [
        "### Conclusiones generales:\n",
        "\n",
        "En este notebook se entrenaron modelos de lenguaje basados en redes neuronales recurrentes utilizando el texto del primer libro de Harry Potter en inglés.\n",
        "\n",
        "Los resultados indicaron que, aunque SimpleRNN presentó una perplejidad competitiva, tanto LSTM como GRU mostraron potencial de mejora en sus curvas de aprendizaje, sugiriendo que un ajuste más cuidadoso de los hiperparámetros o un mayor número de épocas podría beneficiar su rendimiento.\n",
        "\n",
        "Las pruebas de predicción con Beam Search mostraron que las arquitecturas fueron capaces de reconocer patrones y generar texto relevante, aunque se evidenció que en el modo estocástico, especialmente con temperaturas elevadas, la generación de texto presentó incoherencias notables."
      ]
    },
    {
      "cell_type": "markdown",
      "metadata": {
        "id": "Q_LlqmtEW1Hn"
      },
      "source": []
    }
  ],
  "metadata": {
    "accelerator": "GPU",
    "colab": {
      "gpuType": "T4",
      "machine_shape": "hm",
      "provenance": []
    },
    "kernelspec": {
      "display_name": "Python 3",
      "name": "python3"
    },
    "language_info": {
      "codemirror_mode": {
        "name": "ipython",
        "version": 3
      },
      "file_extension": ".py",
      "mimetype": "text/x-python",
      "name": "python",
      "nbconvert_exporter": "python",
      "pygments_lexer": "ipython3",
      "version": "3.11.3"
    }
  },
  "nbformat": 4,
  "nbformat_minor": 0
}
